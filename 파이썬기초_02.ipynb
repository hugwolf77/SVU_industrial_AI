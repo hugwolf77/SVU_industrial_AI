{
  "nbformat": 4,
  "nbformat_minor": 0,
  "metadata": {
    "colab": {
      "provenance": []
    },
    "kernelspec": {
      "name": "python3",
      "display_name": "Python 3"
    },
    "language_info": {
      "name": "python"
    }
  },
  "cells": [
    {
      "cell_type": "markdown",
      "source": [
        "### 2024년 1학기 Python 기초입문"
      ],
      "metadata": {
        "id": "QrhWEvhxmR9T"
      }
    },
    {
      "cell_type": "markdown",
      "source": [
        "\n",
        "\n",
        "\n",
        "[colaboratory로 실행](https://colab.research.google.com/drive/1IA_Ympiptbqd2TX335MUmQN6_BJsjlwT?usp=sharing) \\\n",
        "\n",
        "\n",
        "\n",
        "# 파이썬 기초 - 04\n",
        "\n",
        "### 1. 로직의 흐름제어\n",
        "\n",
        "> - 프로그램이란 코딩하는 일?\n",
        "> - codeing\n",
        "  : 정보를 계산 조작에 편리한 부호로 바꾸는 작업\n",
        ">\n",
        "> - 단순한 코딩된 프로그래밍 언어의 절차 \\\n",
        "  : 입력 => 연산 => 출력 (단순 logic)\n",
        ">\n",
        "> - programming\n",
        "  : 컴퓨터 프로그램을 작성하는 일.  \n",
        ">   목적에 맞는 로직 이론과 알고리즘 이론을 사용하여 효율성과 효과성이 높은 로직의 흐름을 만드는 행위\n",
        ">\n",
        "> - 개발\n",
        "  : 프로그램이 사용되는 비지니스적 (시장, 고객, 제품의 가치 등) 종합적인 내용을 포함한 총체적 생산.\n",
        "\n",
        "-  일련의 논리연산과 수치연산의 로직들을 목적에 맞는 효율적이고 생산적인 로직의 흐름으로 만들고 제어하여 출력하는 과정을 만드는 것\n"
      ],
      "metadata": {
        "id": "r7UjGHUHrnW7"
      }
    },
    {
      "cell_type": "code",
      "source": [
        "# 단순한 logic의 코딩\n",
        "\n",
        "a = 0\n",
        "b = 1\n",
        "print(b)\n",
        "out = a + b\n",
        "a = b\n",
        "b = out\n",
        "print(b)\n",
        "out = a + b\n",
        "a = b\n",
        "b = out\n",
        "print(b)\n",
        "out = a + b\n",
        "a = b\n",
        "b = out\n",
        "print(b)\n",
        "out = a + b\n",
        "a = b\n",
        "b = out\n",
        "print(b)\n",
        "out = a + b\n",
        "a = b\n",
        "b = out\n",
        "print(b)\n",
        "out = a + b\n",
        "a = b\n",
        "b = out\n",
        "print(b)"
      ],
      "metadata": {
        "colab": {
          "base_uri": "https://localhost:8080/"
        },
        "id": "JatF6_0NuL7z",
        "outputId": "7e7683bf-52c7-4c53-942f-8aadcfd519e8"
      },
      "execution_count": 15,
      "outputs": [
        {
          "output_type": "stream",
          "name": "stdout",
          "text": [
            "1\n",
            "1\n",
            "2\n",
            "3\n",
            "5\n",
            "8\n",
            "13\n"
          ]
        }
      ]
    },
    {
      "cell_type": "code",
      "execution_count": 23,
      "metadata": {
        "colab": {
          "base_uri": "https://localhost:8080/"
        },
        "id": "7LccIqBNrFdC",
        "outputId": "8724b03e-d5d5-43c6-a846-70895ccc91de"
      },
      "outputs": [
        {
          "output_type": "stream",
          "name": "stdout",
          "text": [
            "1\n",
            "1\n",
            "2\n",
            "3\n",
            "5\n",
            "8\n",
            "13\n"
          ]
        }
      ],
      "source": [
        "\n",
        "# 조건문과 재귀함수를 이용한 구현\n",
        "def fib_re(n, a, b):\n",
        "  if n == 0:\n",
        "    pass # return\n",
        "  else:\n",
        "    print(b)\n",
        "    return fib(n - 1, b, a + b)\n",
        "\n",
        "fib_re(7, 0, 1)"
      ]
    },
    {
      "cell_type": "markdown",
      "source": [
        "---\n",
        "### 2. 기본적인 흐름제어문 - (1) 조건문\n",
        "\n",
        "<center>\n",
        "<img src=\n",
        "'https://drive.google.com/uc?id=1ESbpJFgfwo9Vtmk7CmZeWJXirY7RApP_' width='300' height='300' /><br>\n",
        "</center>\n",
        "\n",
        "> (1) 조건문 : 참(True), 거짓(False)을 리턴하는 결과로 로직의 흐름이 어떤 경로로 분기할지 결정하는 문. 0 이 아니거나 null 이 아닐 경우 True 로 판단. 반대를 False로 판단.\n",
        "> - if 문 : 조건\n",
        "\n",
        "> |구분|설명|\n",
        "> |----|-----|\n",
        "> |if 문 |분기 조건이 만족할 경우에 하나 이상|\n",
        "> |if ..else|분기 조건식이 참일 경우와 거짓일 경우|\n",
        "> |중첩 if|분기 조건식이 내부에 조건식이 다중인 경우|\n",
        "\n",
        "\n"
      ],
      "metadata": {
        "id": "zh9MuDoFzF0D"
      }
    },
    {
      "cell_type": "code",
      "source": [
        "# 1. if 문\n",
        "\n",
        "'''\n",
        " if 조건문 :\n",
        "    실행할 코드\n",
        "    실행할 코드\n",
        "\n",
        " 분기문 이후에 실행할 코드\n",
        "'''\n",
        "# input_condition = '데이터'\n",
        "input_condition = '그림'\n",
        "\n",
        "if input_condition == '데이터':\n",
        "  print(f\"{input_condition} 가 조건과 맞습니다.\")\n",
        "\n",
        "print(f\"완료 하였습니다.\")\n"
      ],
      "metadata": {
        "colab": {
          "base_uri": "https://localhost:8080/"
        },
        "id": "sXgYvbpT73NF",
        "outputId": "39607f0f-6501-4856-9381-327b7a80448e"
      },
      "execution_count": 27,
      "outputs": [
        {
          "output_type": "stream",
          "name": "stdout",
          "text": [
            "완료 하였습니다.\n"
          ]
        }
      ]
    },
    {
      "cell_type": "code",
      "source": [
        "# 1. if ... else\n",
        "\n",
        "'''\n",
        " if 조건문 :\n",
        "    실행할 코드\n",
        " elif:\n",
        "     수행할 코드\n",
        " else:\n",
        "     수행할 코드\n",
        "\n",
        " 분기문 이후에 실행할 코드\n",
        "'''\n",
        "# input_condition = '데이터'\n",
        "# input_condition = '그림'\n",
        "input_condition = '의자'\n",
        "\n",
        "def condition_compare(input_condition):\n",
        "    if input_condition == '데이터':\n",
        "      print(f\"입력된 조건 {input_condition}는 데이터 입니다..\")\n",
        "    elif input_condition == '그림' :\n",
        "      print(f\"입력된 조건 {input_condition}은 그림 입니다.\")\n",
        "    else:\n",
        "      print(f\"입력된 조건 {input_condition}는 데이터도 그림도 아닙니다.\")\n",
        "\n",
        "    print(f\"\\n완료 하였습니다.\")\n",
        "\n",
        "\n",
        "condition_compare(input_condition)\n"
      ],
      "metadata": {
        "colab": {
          "base_uri": "https://localhost:8080/"
        },
        "id": "TdESad9uYZ-e",
        "outputId": "a48ab16c-6713-49dc-c6cd-7a416dd16d4d"
      },
      "execution_count": 40,
      "outputs": [
        {
          "output_type": "stream",
          "name": "stdout",
          "text": [
            "입력된 조건 의자는 데이터도 그림도 아닙니다.\n",
            "\n",
            "완료 하였습니다.\n"
          ]
        }
      ]
    },
    {
      "cell_type": "markdown",
      "source": [
        "\n",
        "> - match :  \n",
        "> 기존 파이썬 버전에서 없었던 case 에 따라 분기하는 분기문 3.10.0 버전부터 적용됨\n",
        "> match 조건: 에 입력되는 내용과 일치하는 패턴의 case 문 이후 코드가 실행."
      ],
      "metadata": {
        "id": "OMQBjzAJW5-u"
      }
    },
    {
      "cell_type": "code",
      "source": [
        "# 2. match - case\n",
        "\n",
        "'''\n",
        "match 입력 :\n",
        " case 경우_1:\n",
        "     수행할 코드\n",
        " case 경우_2 :\n",
        "     수행할 코드\n",
        " case _:\n",
        "      아무런 패턴과 일치하지 않는 경우 (와일드 카드 _ 를 사용하여 표현 할 수 있음)\n",
        " 분기문 이후에 실행할 코드\n",
        "'''\n",
        "\n",
        "status = 5\n",
        "\n",
        "def match_codition(status):\n",
        "  match status:\n",
        "        case 10:\n",
        "          return \"status 가 십 입니다..\"\n",
        "        case 100:\n",
        "          return \"status 가 백 입니다.\"\n",
        "        case 1000:\n",
        "          return \"status 가 천 입니다.\"\n",
        "        case 10000:\n",
        "          return \"status 가 만 입니다.\"\n",
        "        case 5 | 50 | 500:\n",
        "          return \"status 가 5 또는 50 또는 500 중 하나 입니다.\"\n",
        "        case _:\n",
        "          return \"status 가 조건에 없습니다.\"\n",
        "\n",
        "match_codition(status)"
      ],
      "metadata": {
        "colab": {
          "base_uri": "https://localhost:8080/",
          "height": 35
        },
        "id": "LRZ-HXaqaPKG",
        "outputId": "1fd89be3-3897-45be-ec75-4393aa460d9c"
      },
      "execution_count": 44,
      "outputs": [
        {
          "output_type": "execute_result",
          "data": {
            "text/plain": [
              "'status 가 5 또는 50 또는 500 중 하나 입니다.'"
            ],
            "application/vnd.google.colaboratory.intrinsic+json": {
              "type": "string"
            }
          },
          "metadata": {},
          "execution_count": 44
        }
      ]
    },
    {
      "cell_type": "code",
      "source": [
        "# 자동 unpacking assignments\n",
        "\n",
        "size = 10, 5\n",
        "\n",
        "def mesure(size):\n",
        "    match size:\n",
        "        case (0,0):\n",
        "            return \"Empty\"\n",
        "        case (x,0):\n",
        "            print(f\"only width: {x}\")\n",
        "        case (0,y):\n",
        "            print(f\"only height: {y}\")\n",
        "        case (x,y):\n",
        "            print(f\"width: {x}, height: {y} so size: {x*y}\")\n",
        "        case _:\n",
        "            raise ValueError (\"Not a Data\")\n",
        "\n",
        "mesure(size)"
      ],
      "metadata": {
        "colab": {
          "base_uri": "https://localhost:8080/"
        },
        "id": "OQ1VJ2kjd6QE",
        "outputId": "bb4c5aae-fc7f-48d3-a9e1-6a119625fa65"
      },
      "execution_count": 46,
      "outputs": [
        {
          "output_type": "stream",
          "name": "stdout",
          "text": [
            "width: 10, height: 5 so size: 50\n"
          ]
        }
      ]
    },
    {
      "cell_type": "markdown",
      "source": [
        "\n",
        "---\n",
        "### 3. 기본적인 흐름제어문 - (2) 반복문\n",
        "\n",
        "<center>\n",
        "<img src=\n",
        "'https://drive.google.com/uc?id=1_nyIP3bEdb-xAiSnImDbIHxGjN3K7QeE' width='400' height='300' /><br>\n",
        "</center>\n",
        "\n",
        "> (2) 반복문\n",
        "> - while, for : 프로그램에서 같은 로직을 변수(변수는 변할 수 있음)에 따라서 반복해서 진행.\n",
        "\n",
        "> |구분|설명|\n",
        "> |----|-----|\n",
        "> |while 문 |반복 조건문이 참(True) 일 동안 명령문을 반복 실행|\n",
        "> |for 문|반복 조건문에 대해서 데이터 집합이 참(True) 일 동안 명령문을 반복 실행 |\n",
        "> |중첩 |반복문 안의 반복문을 사용하여 중첩|\n",
        "\n",
        "> - 반복문 제어\n",
        "\n",
        "> |구분|설명|\n",
        "> |----|-----|\n",
        "> |break|반복문을 종료하고 반복문 밖의 코드로 진행|\n",
        "> |continue|반복문 내 남은 코드를 건너 뛰고 반복문의 다음으로 진행|\n",
        "> |pass|반복문 내 코드를 실행하지 않고 건너뛰기, 코드 부분은 필요하지만 실행되지 않기를 바랄때 사용|\n",
        "\n",
        "\n"
      ],
      "metadata": {
        "id": "k_s8t7FF71nJ"
      }
    },
    {
      "cell_type": "code",
      "source": [
        "# 1. while\n",
        "\n",
        "'''\n",
        "while 조건문 :\n",
        "     수행할 코드\n",
        "'''\n",
        "\n",
        "input_num = 10\n",
        "\n",
        "def count(input_num):\n",
        "  now = 0\n",
        "  while(now < input_num):\n",
        "      print(f\"Now count : {now} :\")\n",
        "      now = now + 1\n",
        "  return print(f\"\\n {now} count done \")\n",
        "\n",
        "count(input_num)"
      ],
      "metadata": {
        "colab": {
          "base_uri": "https://localhost:8080/"
        },
        "id": "eAbw-AEaidFc",
        "outputId": "b1d47083-8757-473a-908e-966502d70e6d"
      },
      "execution_count": 64,
      "outputs": [
        {
          "output_type": "stream",
          "name": "stdout",
          "text": [
            "Now count : 0 :\n",
            "Now count : 1 :\n",
            "Now count : 2 :\n",
            "Now count : 3 :\n",
            "Now count : 4 :\n",
            "Now count : 5 :\n",
            "Now count : 6 :\n",
            "Now count : 7 :\n",
            "Now count : 8 :\n",
            "Now count : 9 :\n",
            "\n",
            " 10 count done \n"
          ]
        }
      ]
    },
    {
      "cell_type": "code",
      "source": [
        "# 무한 루프 :\n",
        "\n",
        "codition = 1\n",
        "\n",
        "while codition:\n",
        "    newstr = input(\"문자를 입력해 주세요.: \")\n",
        "    if newstr == 'z':\n",
        "      codition = 0\n",
        "      print(\"\\nz 가 입력되어 종료합니다.\")\n",
        "    print(f\"\\n입력하신 문자는 {newstr} 입니다. 끝내리시려면 z 를 입력하세요\\n\")"
      ],
      "metadata": {
        "colab": {
          "base_uri": "https://localhost:8080/"
        },
        "id": "C-4fanHfmLiN",
        "outputId": "fc1b3278-738d-42e4-aa1f-a739039ffed9"
      },
      "execution_count": 71,
      "outputs": [
        {
          "output_type": "stream",
          "name": "stdout",
          "text": [
            "문자를 입력해 주세요.: 2\n",
            "\n",
            "입력하신 문자는 2 입니다. 끝내리시려면 z 를 입력하세요\n",
            "\n",
            "문자를 입력해 주세요.: 5\n",
            "\n",
            "입력하신 문자는 5 입니다. 끝내리시려면 z 를 입력하세요\n",
            "\n",
            "문자를 입력해 주세요.: 8\n",
            "\n",
            "입력하신 문자는 8 입니다. 끝내리시려면 z 를 입력하세요\n",
            "\n",
            "문자를 입력해 주세요.: z\n",
            "\n",
            "z 가 입력되어 종료합니다.\n",
            "\n",
            "입력하신 문자는 z 입니다. 끝내리시려면 z 를 입력하세요\n",
            "\n"
          ]
        }
      ]
    },
    {
      "cell_type": "code",
      "source": [
        "'''\n",
        "for 원소 in sequence_데이터_집합:\n",
        "\t실행할 문장\n",
        "\t....\n",
        "이후의 실행 코드\n",
        "'''\n",
        "\n",
        "number = 10\n",
        "\n",
        "for n in range(10):\n",
        "    print(n+1)\n",
        "print(\"카운트 완료\")"
      ],
      "metadata": {
        "colab": {
          "base_uri": "https://localhost:8080/"
        },
        "id": "GmIFdf6Vm0mU",
        "outputId": "ea8a3ab8-642f-4ce8-b32d-7752b86c0b8d"
      },
      "execution_count": 76,
      "outputs": [
        {
          "output_type": "stream",
          "name": "stdout",
          "text": [
            "1\n",
            "2\n",
            "3\n",
            "4\n",
            "5\n",
            "6\n",
            "7\n",
            "8\n",
            "9\n",
            "10\n"
          ]
        }
      ]
    },
    {
      "cell_type": "code",
      "source": [
        "# sequence 자료구조\n",
        "\n",
        "sequence = [\"하나\", \"둘\", \"셋\", \"넷\", \"다섯\", \"여섯\", \"일곱\", \"여덜\", \"아홉\", \"열\"]\n",
        "\n",
        "for seq in sequence:\n",
        "    print(seq)\n",
        "\n",
        "print(\"카운트 완료\")"
      ],
      "metadata": {
        "colab": {
          "base_uri": "https://localhost:8080/"
        },
        "id": "cDWta71Pqh_0",
        "outputId": "4f51b04f-ff31-46b6-ad9a-5ee770ea6f1b"
      },
      "execution_count": 78,
      "outputs": [
        {
          "output_type": "stream",
          "name": "stdout",
          "text": [
            "하나\n",
            "둘\n",
            "셋\n",
            "넷\n",
            "다섯\n",
            "여섯\n",
            "일곱\n",
            "여덜\n",
            "아홉\n",
            "열\n",
            "카운트 완료\n"
          ]
        }
      ]
    },
    {
      "cell_type": "code",
      "source": [
        "# enumerate\n",
        "\n",
        "fruits = ['사과','딸기','배', '고구마', '수박','포도','감', '토마토']\n",
        "\n",
        "for n, seq in enumerate(fruits):\n",
        "  print(f\"{n+1}번째는 {seq}입니다.\\n\")\n",
        "\n",
        "print(\"여기까지!\")"
      ],
      "metadata": {
        "colab": {
          "base_uri": "https://localhost:8080/"
        },
        "id": "tRtgsxC6q32c",
        "outputId": "e9eda6bf-7d92-44c5-ee4b-698cefe88546"
      },
      "execution_count": 91,
      "outputs": [
        {
          "output_type": "stream",
          "name": "stdout",
          "text": [
            "1번째는 사과입니다.\n",
            "\n",
            "2번째는 딸기입니다.\n",
            "\n",
            "3번째는 배입니다.\n",
            "\n",
            "4번째는 고구마입니다.\n",
            "\n",
            "5번째는 수박입니다.\n",
            "\n",
            "6번째는 포도입니다.\n",
            "\n",
            "7번째는 감입니다.\n",
            "\n",
            "8번째는 토마토입니다.\n",
            "\n",
            "여기까지!\n"
          ]
        }
      ]
    },
    {
      "cell_type": "code",
      "source": [
        "# break\n",
        "\n",
        "for n, seq in enumerate(fruits):\n",
        "  if seq == '고구마':\n",
        "    print(\"고구마라니~~!!! 스톱\\n\")\n",
        "    break\n",
        "  print(f\"{n+1}번째는 {seq}입니다.\\n\")\n",
        "\n",
        "print(\"여기까지!\")\n"
      ],
      "metadata": {
        "colab": {
          "base_uri": "https://localhost:8080/"
        },
        "id": "ouovG3gcrxgd",
        "outputId": "27cb2694-2b7a-416b-d758-15c707f266ca"
      },
      "execution_count": 90,
      "outputs": [
        {
          "output_type": "stream",
          "name": "stdout",
          "text": [
            "1번째는 사과입니다.\n",
            "\n",
            "2번째는 딸기입니다.\n",
            "\n",
            "3번째는 배입니다.\n",
            "\n",
            "고구마라니~~!!! 스톱\n",
            "\n",
            "여기까지!\n"
          ]
        }
      ]
    },
    {
      "cell_type": "code",
      "source": [
        "# continue\n",
        "\n",
        "for n, seq in enumerate(fruits):\n",
        "  if seq == '고구마':\n",
        "    print(\"고구마라니~~!!! 아웃\\n\")\n",
        "    continue\n",
        "\n",
        "  print(f\"{n+1}번째는 {seq}입니다.\\n\")\n",
        "\n",
        "print(\"여기까지!\")"
      ],
      "metadata": {
        "colab": {
          "base_uri": "https://localhost:8080/"
        },
        "id": "muJ1ye2Bsb_9",
        "outputId": "77e33b58-e9a8-4a19-c691-8423b4344286"
      },
      "execution_count": 95,
      "outputs": [
        {
          "output_type": "stream",
          "name": "stdout",
          "text": [
            "1번째는 사과입니다.\n",
            "\n",
            "2번째는 딸기입니다.\n",
            "\n",
            "3번째는 배입니다.\n",
            "\n",
            "고구마라니~~!!! 스톱\n",
            "\n",
            "5번째는 수박입니다.\n",
            "\n",
            "6번째는 포도입니다.\n",
            "\n",
            "7번째는 감입니다.\n",
            "\n",
            "8번째는 토마토입니다.\n",
            "\n",
            "여기까지!\n"
          ]
        }
      ]
    },
    {
      "cell_type": "code",
      "source": [
        "# pass\n",
        "\n",
        "for n, seq in enumerate(fruits):\n",
        "  if seq == '고구마':\n",
        "    pass\n",
        "    print(\"고구마라니~~!!! 패스~\\n\")\n",
        "\n",
        "  print(f\"{n+1}번째는 {seq}입니다.\\n\")\n",
        "\n",
        "print(\"여기까지!\")"
      ],
      "metadata": {
        "colab": {
          "base_uri": "https://localhost:8080/"
        },
        "id": "alr0yK1FswVd",
        "outputId": "88fc1855-ba89-4fa3-941d-f84c722a8257"
      },
      "execution_count": 96,
      "outputs": [
        {
          "output_type": "stream",
          "name": "stdout",
          "text": [
            "1번째는 사과입니다.\n",
            "\n",
            "2번째는 딸기입니다.\n",
            "\n",
            "3번째는 배입니다.\n",
            "\n",
            "고구마라니~~!!! 패스~\n",
            "\n",
            "4번째는 고구마입니다.\n",
            "\n",
            "5번째는 수박입니다.\n",
            "\n",
            "6번째는 포도입니다.\n",
            "\n",
            "7번째는 감입니다.\n",
            "\n",
            "8번째는 토마토입니다.\n",
            "\n",
            "여기까지!\n"
          ]
        }
      ]
    }
  ]
}
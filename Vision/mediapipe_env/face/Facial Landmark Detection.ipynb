{
 "cells": [
  {
   "cell_type": "code",
   "execution_count": 1,
   "id": "eab23fc7",
   "metadata": {},
   "outputs": [],
   "source": [
    "import cv2\n",
    "import mediapipe as mp"
   ]
  },
  {
   "cell_type": "code",
   "execution_count": 2,
   "id": "2dbb05b9",
   "metadata": {},
   "outputs": [],
   "source": [
    "mp_drawing = mp.solutions.drawing_utils\n",
    "mp_drawing_styles = mp.solutions.drawing_styles\n",
    "\n",
    "my_drawing_specs = mp_drawing.DrawingSpec(color = (0, 255, 0), thickness = 1)"
   ]
  },
  {
   "cell_type": "code",
   "execution_count": 7,
   "id": "d3cc7778",
   "metadata": {},
   "outputs": [
    {
     "name": "stderr",
     "output_type": "stream",
     "text": [
      "qt.qpa.plugin: Could not find the Qt platform plugin \"wayland\" in \"/home/augustine77/.cache/pypoetry/virtualenvs/svu-industrial-ai-uwnhATzJ-py3.11/lib/python3.11/site-packages/cv2/qt/plugins\"\n"
     ]
    },
    {
     "ename": "KeyboardInterrupt",
     "evalue": "",
     "output_type": "error",
     "traceback": [
      "\u001b[0;31m---------------------------------------------------------------------------\u001b[0m",
      "\u001b[0;31mKeyboardInterrupt\u001b[0m                         Traceback (most recent call last)",
      "Cell \u001b[0;32mIn[7], line 31\u001b[0m\n\u001b[1;32m     21\u001b[0m         \u001b[38;5;28;01mfor\u001b[39;00m face_landmarks \u001b[38;5;129;01min\u001b[39;00m results\u001b[38;5;241m.\u001b[39mmulti_face_landmarks:\n\u001b[1;32m     22\u001b[0m             mp_drawing\u001b[38;5;241m.\u001b[39mdraw_landmarks(\n\u001b[1;32m     23\u001b[0m                 image \u001b[38;5;241m=\u001b[39m image,\n\u001b[1;32m     24\u001b[0m                 landmark_list \u001b[38;5;241m=\u001b[39m face_landmarks,\n\u001b[0;32m   (...)\u001b[0m\n\u001b[1;32m     28\u001b[0m                 \u001b[38;5;241m.\u001b[39mget_default_face_mesh_tesselation_style()\n\u001b[1;32m     29\u001b[0m             )\n\u001b[0;32m---> 31\u001b[0m             \u001b[43mmp_drawing\u001b[49m\u001b[38;5;241;43m.\u001b[39;49m\u001b[43mdraw_landmarks\u001b[49m\u001b[43m(\u001b[49m\n\u001b[1;32m     32\u001b[0m \u001b[43m                \u001b[49m\u001b[43mimage\u001b[49m\u001b[43m \u001b[49m\u001b[38;5;241;43m=\u001b[39;49m\u001b[43m \u001b[49m\u001b[43mimage\u001b[49m\u001b[43m,\u001b[49m\n\u001b[1;32m     33\u001b[0m \u001b[43m                \u001b[49m\u001b[43mlandmark_list\u001b[49m\u001b[43m \u001b[49m\u001b[38;5;241;43m=\u001b[39;49m\u001b[43m \u001b[49m\u001b[43mface_landmarks\u001b[49m\u001b[43m,\u001b[49m\n\u001b[1;32m     34\u001b[0m \u001b[43m                \u001b[49m\u001b[43mconnections\u001b[49m\u001b[43m \u001b[49m\u001b[38;5;241;43m=\u001b[39;49m\u001b[43m \u001b[49m\u001b[43mmp_face_mesh\u001b[49m\u001b[38;5;241;43m.\u001b[39;49m\u001b[43mFACEMESH_CONTOURS\u001b[49m\u001b[43m,\u001b[49m\n\u001b[1;32m     35\u001b[0m \u001b[43m                \u001b[49m\u001b[43mlandmark_drawing_spec\u001b[49m\u001b[43m \u001b[49m\u001b[38;5;241;43m=\u001b[39;49m\u001b[43m \u001b[49m\u001b[38;5;28;43;01mNone\u001b[39;49;00m\u001b[43m,\u001b[49m\n\u001b[1;32m     36\u001b[0m \u001b[43m                \u001b[49m\u001b[43mconnection_drawing_spec\u001b[49m\u001b[43m \u001b[49m\u001b[38;5;241;43m=\u001b[39;49m\u001b[43m \u001b[49m\u001b[43mmy_drawing_specs\u001b[49m\n\u001b[1;32m     37\u001b[0m \u001b[38;5;66;43;03m#                 .get_default_face_mesh_contours_style()\u001b[39;49;00m\n\u001b[1;32m     38\u001b[0m \u001b[43m            \u001b[49m\u001b[43m)\u001b[49m\n\u001b[1;32m     41\u001b[0m         cv2\u001b[38;5;241m.\u001b[39mimshow(\u001b[38;5;124m\"\u001b[39m\u001b[38;5;124mMy video capture\u001b[39m\u001b[38;5;124m\"\u001b[39m, cv2\u001b[38;5;241m.\u001b[39mflip(image, \u001b[38;5;241m1\u001b[39m))\n\u001b[1;32m     43\u001b[0m         \u001b[38;5;28;01mif\u001b[39;00m cv2\u001b[38;5;241m.\u001b[39mwaitKey(\u001b[38;5;241m100\u001b[39m) \u001b[38;5;241m&\u001b[39m \u001b[38;5;241m0xFF\u001b[39m \u001b[38;5;241m==\u001b[39m \u001b[38;5;28mord\u001b[39m(\u001b[38;5;124m'\u001b[39m\u001b[38;5;124mq\u001b[39m\u001b[38;5;124m'\u001b[39m):\n",
      "File \u001b[0;32m~/.cache/pypoetry/virtualenvs/svu-industrial-ai-uwnhATzJ-py3.11/lib/python3.11/site-packages/mediapipe/python/solutions/drawing_utils.py:163\u001b[0m, in \u001b[0;36mdraw_landmarks\u001b[0;34m(image, landmark_list, connections, landmark_drawing_spec, connection_drawing_spec)\u001b[0m\n\u001b[1;32m    158\u001b[0m \u001b[38;5;28;01mif\u001b[39;00m ((landmark\u001b[38;5;241m.\u001b[39mHasField(\u001b[38;5;124m'\u001b[39m\u001b[38;5;124mvisibility\u001b[39m\u001b[38;5;124m'\u001b[39m) \u001b[38;5;129;01mand\u001b[39;00m\n\u001b[1;32m    159\u001b[0m      landmark\u001b[38;5;241m.\u001b[39mvisibility \u001b[38;5;241m<\u001b[39m _VISIBILITY_THRESHOLD) \u001b[38;5;129;01mor\u001b[39;00m\n\u001b[1;32m    160\u001b[0m     (landmark\u001b[38;5;241m.\u001b[39mHasField(\u001b[38;5;124m'\u001b[39m\u001b[38;5;124mpresence\u001b[39m\u001b[38;5;124m'\u001b[39m) \u001b[38;5;129;01mand\u001b[39;00m\n\u001b[1;32m    161\u001b[0m      landmark\u001b[38;5;241m.\u001b[39mpresence \u001b[38;5;241m<\u001b[39m _PRESENCE_THRESHOLD)):\n\u001b[1;32m    162\u001b[0m   \u001b[38;5;28;01mcontinue\u001b[39;00m\n\u001b[0;32m--> 163\u001b[0m landmark_px \u001b[38;5;241m=\u001b[39m _normalized_to_pixel_coordinates(\u001b[43mlandmark\u001b[49m\u001b[38;5;241;43m.\u001b[39;49m\u001b[43mx\u001b[49m, landmark\u001b[38;5;241m.\u001b[39my,\n\u001b[1;32m    164\u001b[0m                                                image_cols, image_rows)\n\u001b[1;32m    165\u001b[0m \u001b[38;5;28;01mif\u001b[39;00m landmark_px:\n\u001b[1;32m    166\u001b[0m   idx_to_coordinates[idx] \u001b[38;5;241m=\u001b[39m landmark_px\n",
      "File \u001b[0;32m~/.cache/pypoetry/virtualenvs/svu-industrial-ai-uwnhATzJ-py3.11/lib/python3.11/site-packages/google/protobuf/internal/python_message.py:688\u001b[0m, in \u001b[0;36m_AddPropertiesForNonRepeatedScalarField.<locals>.getter\u001b[0;34m(self)\u001b[0m\n\u001b[1;32m    685\u001b[0m default_value \u001b[38;5;241m=\u001b[39m field\u001b[38;5;241m.\u001b[39mdefault_value\n\u001b[1;32m    686\u001b[0m is_proto3 \u001b[38;5;241m=\u001b[39m field\u001b[38;5;241m.\u001b[39mcontaining_type\u001b[38;5;241m.\u001b[39msyntax \u001b[38;5;241m==\u001b[39m \u001b[38;5;124m'\u001b[39m\u001b[38;5;124mproto3\u001b[39m\u001b[38;5;124m'\u001b[39m\n\u001b[0;32m--> 688\u001b[0m \u001b[38;5;28;01mdef\u001b[39;00m \u001b[38;5;21mgetter\u001b[39m(\u001b[38;5;28mself\u001b[39m):\n\u001b[1;32m    689\u001b[0m   \u001b[38;5;66;03m# TODO(protobuf-team): This may be broken since there may not be\u001b[39;00m\n\u001b[1;32m    690\u001b[0m   \u001b[38;5;66;03m# default_value.  Combine with has_default_value somehow.\u001b[39;00m\n\u001b[1;32m    691\u001b[0m   \u001b[38;5;28;01mreturn\u001b[39;00m \u001b[38;5;28mself\u001b[39m\u001b[38;5;241m.\u001b[39m_fields\u001b[38;5;241m.\u001b[39mget(field, default_value)\n\u001b[1;32m    692\u001b[0m getter\u001b[38;5;241m.\u001b[39m\u001b[38;5;18m__module__\u001b[39m \u001b[38;5;241m=\u001b[39m \u001b[38;5;28;01mNone\u001b[39;00m\n",
      "\u001b[0;31mKeyboardInterrupt\u001b[0m: "
     ]
    },
    {
     "ename": "",
     "evalue": "",
     "output_type": "error",
     "traceback": [
      "\u001b[1;31mThe Kernel crashed while executing code in the current cell or a previous cell. \n",
      "\u001b[1;31mPlease review the code in the cell(s) to identify a possible cause of the failure. \n",
      "\u001b[1;31mClick <a href='https://aka.ms/vscodeJupyterKernelCrash'>here</a> for more info. \n",
      "\u001b[1;31mView Jupyter <a href='command:jupyter.viewOutput'>log</a> for further details."
     ]
    }
   ],
   "source": [
    "cap = cv2.VideoCapture(2)\n",
    "\n",
    "mp_face_mesh = mp.solutions.face_mesh\n",
    "\n",
    "with mp_face_mesh.FaceMesh(\n",
    "        max_num_faces = 1,\n",
    "        refine_landmarks = True,\n",
    "        min_detection_confidence = 0.5,\n",
    "        min_tracking_confidence = 0.5\n",
    "    ) as face_mesh:\n",
    "    \n",
    "\n",
    "    while cap.isOpened():\n",
    "        success, image = cap.read()\n",
    "        if not success:\n",
    "            break\n",
    "            \n",
    "            \n",
    "        results = face_mesh.process(image)\n",
    "        \n",
    "        for face_landmarks in results.multi_face_landmarks:\n",
    "            mp_drawing.draw_landmarks(\n",
    "                image = image,\n",
    "                landmark_list = face_landmarks,\n",
    "                connections = mp_face_mesh.FACEMESH_TESSELATION,\n",
    "                landmark_drawing_spec = None,\n",
    "                connection_drawing_spec = mp_drawing_styles\n",
    "                .get_default_face_mesh_tesselation_style()\n",
    "            )\n",
    "            \n",
    "            mp_drawing.draw_landmarks(\n",
    "                image = image,\n",
    "                landmark_list = face_landmarks,\n",
    "                connections = mp_face_mesh.FACEMESH_CONTOURS,\n",
    "                landmark_drawing_spec = None,\n",
    "                connection_drawing_spec = my_drawing_specs\n",
    "#                 .get_default_face_mesh_contours_style()\n",
    "            )\n",
    "\n",
    "\n",
    "        cv2.imshow(\"My video capture\", cv2.flip(image, 1))\n",
    "\n",
    "        if cv2.waitKey(100) & 0xFF == ord('q'):\n",
    "            break\n",
    "        \n",
    "cap.release()\n",
    "cv2.destroyAllWindows()"
   ]
  },
  {
   "cell_type": "code",
   "execution_count": null,
   "id": "1ad5e8fb",
   "metadata": {},
   "outputs": [],
   "source": []
  }
 ],
 "metadata": {
  "kernelspec": {
   "display_name": "svu-industrial-ai-uwnhATzJ-py3.11",
   "language": "python",
   "name": "python3"
  },
  "language_info": {
   "codemirror_mode": {
    "name": "ipython",
    "version": 3
   },
   "file_extension": ".py",
   "mimetype": "text/x-python",
   "name": "python",
   "nbconvert_exporter": "python",
   "pygments_lexer": "ipython3",
   "version": "3.11.3"
  }
 },
 "nbformat": 4,
 "nbformat_minor": 5
}

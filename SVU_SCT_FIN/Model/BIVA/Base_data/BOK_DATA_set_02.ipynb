{
 "cells": [
  {
   "attachments": {},
   "cell_type": "markdown",
   "metadata": {},
   "source": [
    "### 2023년 07월 06일 : 데이터 처리 - 2\n",
    "\n",
    "(1) 2차 데이터 정비로 확정한 변수들의 데이터 로드를 확인하고\n",
    "\n",
    "(2) 계절조정이 되지 않은 계열에 대하여 X13-arima_analsis 를 이용하여 계절조정을 시행한다. \n",
    "> 오프라인에서만 X13_arima 프로그램 작동함. 오프라인에서 데이터셋 정비하여 올려야함.\n",
    "\n",
    "(3) 또한 lag가 있는 경우 이를 데이터 셋에 반영한다."
   ]
  },
  {
   "cell_type": "code",
   "execution_count": 1,
   "metadata": {},
   "outputs": [
    {
     "name": "stdout",
     "output_type": "stream",
     "text": [
      "Python set up modules loaded\n",
      "Python version:\n",
      " 3.8.5 (tags/v3.8.5:580fbb0, Jul 20 2020, 15:57:54) [MSC v.1924 64 bit (AMD64)] \n",
      "Platform:  win32\n",
      "Base directory path: D:\\2023\\Sadj\\x13as_ascii-v1-1-b59\\x13as\n",
      "Data/time: 2023-07-07 15:25:47.943614\n"
     ]
    },
    {
     "name": "stderr",
     "output_type": "stream",
     "text": [
      "c:\\Users\\PC\\AppData\\Local\\Programs\\Python\\Python38\\lib\\site-packages\\statsmodels\\compat\\pandas.py:65: FutureWarning: pandas.Int64Index is deprecated and will be removed from pandas in a future version. Use pandas.Index with the appropriate dtype instead.\n",
      "  from pandas import Int64Index as NumericIndex\n"
     ]
    },
    {
     "name": "stdout",
     "output_type": "stream",
     "text": [
      "STATSMODELS info (statsmodels._version.version_json) \n",
      "{\n",
      " \"date\": \"2021-11-12T23:19:44+0000\",\n",
      " \"dirty\": false,\n",
      " \"error\": null,\n",
      " \"full-revisionid\": \"70647db97dd1eb65399ee18d474c257d466e33b4\",\n",
      " \"version\": \"0.13.1\"\n",
      "}\n",
      "\n"
     ]
    }
   ],
   "source": [
    "import os\n",
    "os.chdir(r'D:\\2023\\Sadj\\x13as_ascii-v1-1-b59\\x13as')\n",
    "from datetime import datetime as dt\n",
    "import time\n",
    "\n",
    "import numpy as np\n",
    "import pandas as pd\n",
    "import openpyxl\n",
    "import pprint as pp\n",
    "\n",
    "import matplotlib.pyplot as plt\n",
    "plt.rc('font', family='NanumBarunGothic')\n",
    "import seaborn as sns\n",
    "\n",
    "from IPython.core.interactiveshell import InteractiveShell\n",
    "InteractiveShell.ast_node_interactivity = \"all\"\n",
    "\n",
    "print(\"Python set up modules loaded\")\n",
    "print(\"Python version:\\n\", os.sys.version, \"\\nPlatform: \", os.sys.platform)\n",
    "print(\"Base directory path:\", os.getcwd())\n",
    "print(\"Data/time:\", dt.now())\n",
    "\n",
    "import statsmodels as sma\n",
    "import statsmodels.api as sm\n",
    "from statsmodels.tsa.stattools import adfuller\n",
    "from statsmodels.tsa.x13 import x13_arima_select_order, _find_x12\n",
    "\n",
    "print(\"STATSMODELS info (statsmodels._version.version_json)\", sma._version.version_json)\n",
    "# v0.13.0 만 json version 정보 있음. v0.14.0 부터 없음."
   ]
  },
  {
   "cell_type": "code",
   "execution_count": 2,
   "metadata": {},
   "outputs": [
    {
     "name": "stdout",
     "output_type": "stream",
     "text": [
      "M2.xlsx --- 0\n",
      "dataset_01.xlsx --- 1\n",
      "dataset_02.xlsx --- 2\n",
      "계열정리.xlsx --- 3\n",
      "기계수주액_01134039.xlsx --- 4\n",
      "변수목록_d.xlsx --- 5\n",
      "복수통계_01140009.xlsx --- 6\n",
      "선택계열.xlsx --- 7\n",
      "신용카드_01140906.xlsx --- 8\n",
      "아파트 매매 실거래가격지수_01135002.xlsx --- 9\n"
     ]
    }
   ],
   "source": [
    "# 데이터 저장 위치에 excel files  확인\n",
    "data_path = 'D:/2023/Data_WareHouse/ECOS(한국은행경제통계)/Data_02'\n",
    "data_list = [file for file in os.listdir(data_path) if file.endswith(\".xlsx\")]\n",
    "data_list.sort()\n",
    "for d, f in enumerate(data_list):\n",
    "  print(data_list[d], \"---\", d)"
   ]
  },
  {
   "cell_type": "code",
   "execution_count": 3,
   "metadata": {},
   "outputs": [
    {
     "name": "stdout",
     "output_type": "stream",
     "text": [
      "    ID Group    Variable   단위  FEQ  LAG 계절조정 X13-arima               비고  \\\n",
      "0  NaN   NaN         NaN  NaN  NaN  NaN  NaN       NaN              NaN   \n",
      "1   A1  주요지표  국내총생산(GDP)   %     Q  2.0    o         x  (실질, 계절조정, 전기비)   \n",
      "2   A2   NaN        민간소비   %     Q  2.0    o         x  (실질, 계절조정, 전기비)   \n",
      "3   A3   NaN        설비투자   %     Q  2.0    o         x  (실질, 계절조정, 전기비)   \n",
      "4   A4   NaN        건설투자   %     Q  2.0    o         x  (실질, 계절조정, 전기비)   \n",
      "\n",
      "   Unnamed: 9  Unnamed: 10  Unnamed: 11  Unnamed: 12 Unnamed: 13  \n",
      "0         NaN          NaN          NaN          NaN         NaN  \n",
      "1         NaN          NaN          NaN          NaN         NaN  \n",
      "2         NaN          NaN          NaN          NaN         NaN  \n",
      "3         NaN          NaN          NaN          NaN         NaN  \n",
      "4         NaN          NaN          NaN          NaN         NaN   \n",
      "\n",
      "전체 사용 변수의 개수 -------------- 102\n",
      "계절조정 된 계열의 개수 ------------ 41\n",
      "계절조정 되지 않은 계열의 개수 ----- 61\n",
      "X13-arima로 계열조정 해야 하는 개수- 61\n"
     ]
    }
   ],
   "source": [
    "# dataset_01.xlsx file 안에 있는 sheet에서 사용할 계열(입력 데이터 variable) 확을 위한 sheet 를 load\n",
    "var_info = pd.read_excel(os.path.join(data_path,data_list[2]),sheet_name=0,header=0)\n",
    "print(var_info.head(),\"\\n\")\n",
    "\n",
    "# dataset variable list\n",
    "var_list = var_info['Variable'].iloc[1:]\n",
    "\n",
    "Sadj=var_info['계절조정'][1:]\n",
    "x13_arima=var_info['X13-arima'][1:]\n",
    "print(f\"전체 사용 변수의 개수 -------------- {len(var_list)}\")\n",
    "print(f\"계절조정 된 계열의 개수 ------------ {sum(Sadj == 'o')}\")\n",
    "print(f\"계절조정 되지 않은 계열의 개수 ----- {sum(Sadj == 'x')}\")\n",
    "print(f\"X13-arima로 계열조정 해야 하는 개수- {sum(x13_arima == 'o')}\")"
   ]
  },
  {
   "cell_type": "code",
   "execution_count": 4,
   "metadata": {},
   "outputs": [
    {
     "name": "stdout",
     "output_type": "stream",
     "text": [
      "      date   A1   A2    A3    A4    A5    A6\n",
      "0       단위   %    %     %     %     %     % \n",
      "1  1960/Q1  NaN  NaN   NaN   NaN   NaN   NaN\n",
      "2  1960/Q2  4.5  5.4  15.6   3.5  34.1     1\n",
      "3  1960/Q3 -1.1   -4   -14 -16.7  -5.5 -25.1\n",
      "4  1960/Q4  0.6  3.9   2.2   -10  17.3   5.7\n",
      "\n",
      "변수의 개수 -------------- 7\n",
      "데이터의 길이 ------------ 255\n",
      "date계열의 NaN 개수 ----- 0\n",
      "A1계열의 NaN 개수 ----- 3\n",
      "A2계열의 NaN 개수 ----- 3\n",
      "A3계열의 NaN 개수 ----- 3\n",
      "A4계열의 NaN 개수 ----- 3\n",
      "A5계열의 NaN 개수 ----- 3\n",
      "A6계열의 NaN 개수 ----- 3\n",
      "\n",
      "      date   A1   A2    A3   A4    A5 A6\n",
      "2  1960/Q2  4.5  5.4  15.6  3.5  34.1  1\n",
      "\n",
      "        date   A1   A2   A3   A4   A5   A6\n",
      "256  2023/Q4  NaN  NaN  NaN  NaN  NaN  NaN\n"
     ]
    }
   ],
   "source": [
    "dataset_Q = pd.read_excel(os.path.join(data_path,data_list[2]),sheet_name=2,header=2)\n",
    "print(dataset_Q.head())\n",
    "col_Q = dataset_Q.columns\n",
    "print(f\"\\n변수의 개수 -------------- {len(col_Q)}\")\n",
    "print(f\"데이터의 길이 ------------ {len(dataset_Q.iloc[2:])}\")\n",
    "for i, col in enumerate(col_Q):\n",
    "  print(f\"{col}계열의 NaN 개수 ----- {sum(dataset_Q[col].iloc[2:].isna())}\")\n",
    "\n",
    "print(f\"\\n{dataset_Q.iloc[2:3]}\")\n",
    "print(f\"\\n{dataset_Q.iloc[-1:]}\")"
   ]
  },
  {
   "cell_type": "code",
   "execution_count": 6,
   "metadata": {},
   "outputs": [
    {
     "data": {
      "text/html": [
       "<div>\n",
       "<style scoped>\n",
       "    .dataframe tbody tr th:only-of-type {\n",
       "        vertical-align: middle;\n",
       "    }\n",
       "\n",
       "    .dataframe tbody tr th {\n",
       "        vertical-align: top;\n",
       "    }\n",
       "\n",
       "    .dataframe thead th {\n",
       "        text-align: right;\n",
       "    }\n",
       "</style>\n",
       "<table border=\"1\" class=\"dataframe\">\n",
       "  <thead>\n",
       "    <tr style=\"text-align: right;\">\n",
       "      <th></th>\n",
       "      <th>A1</th>\n",
       "      <th>A2</th>\n",
       "      <th>A3</th>\n",
       "      <th>A4</th>\n",
       "      <th>A5</th>\n",
       "      <th>A6</th>\n",
       "    </tr>\n",
       "    <tr>\n",
       "      <th>date</th>\n",
       "      <th></th>\n",
       "      <th></th>\n",
       "      <th></th>\n",
       "      <th></th>\n",
       "      <th></th>\n",
       "      <th></th>\n",
       "    </tr>\n",
       "  </thead>\n",
       "  <tbody>\n",
       "    <tr>\n",
       "      <th>1960Q2</th>\n",
       "      <td>4.5</td>\n",
       "      <td>5.4</td>\n",
       "      <td>15.6</td>\n",
       "      <td>3.5</td>\n",
       "      <td>34.1</td>\n",
       "      <td>1.0</td>\n",
       "    </tr>\n",
       "    <tr>\n",
       "      <th>1960Q3</th>\n",
       "      <td>-1.1</td>\n",
       "      <td>-4.0</td>\n",
       "      <td>-14.0</td>\n",
       "      <td>-16.7</td>\n",
       "      <td>-5.5</td>\n",
       "      <td>-25.1</td>\n",
       "    </tr>\n",
       "    <tr>\n",
       "      <th>1960Q4</th>\n",
       "      <td>0.6</td>\n",
       "      <td>3.9</td>\n",
       "      <td>2.2</td>\n",
       "      <td>-10.0</td>\n",
       "      <td>17.3</td>\n",
       "      <td>5.7</td>\n",
       "    </tr>\n",
       "    <tr>\n",
       "      <th>1961Q1</th>\n",
       "      <td>3.2</td>\n",
       "      <td>0.9</td>\n",
       "      <td>0.6</td>\n",
       "      <td>24.5</td>\n",
       "      <td>5.9</td>\n",
       "      <td>8.9</td>\n",
       "    </tr>\n",
       "    <tr>\n",
       "      <th>1961Q2</th>\n",
       "      <td>4.3</td>\n",
       "      <td>-1.0</td>\n",
       "      <td>4.8</td>\n",
       "      <td>1.7</td>\n",
       "      <td>-6.0</td>\n",
       "      <td>14.2</td>\n",
       "    </tr>\n",
       "    <tr>\n",
       "      <th>...</th>\n",
       "      <td>...</td>\n",
       "      <td>...</td>\n",
       "      <td>...</td>\n",
       "      <td>...</td>\n",
       "      <td>...</td>\n",
       "      <td>...</td>\n",
       "    </tr>\n",
       "    <tr>\n",
       "      <th>2022Q1</th>\n",
       "      <td>0.7</td>\n",
       "      <td>-0.6</td>\n",
       "      <td>-4.2</td>\n",
       "      <td>-2.5</td>\n",
       "      <td>4.2</td>\n",
       "      <td>0.0</td>\n",
       "    </tr>\n",
       "    <tr>\n",
       "      <th>2022Q2</th>\n",
       "      <td>0.8</td>\n",
       "      <td>2.9</td>\n",
       "      <td>1.6</td>\n",
       "      <td>-0.6</td>\n",
       "      <td>-2.6</td>\n",
       "      <td>-1.8</td>\n",
       "    </tr>\n",
       "    <tr>\n",
       "      <th>2022Q3</th>\n",
       "      <td>0.2</td>\n",
       "      <td>1.6</td>\n",
       "      <td>7.0</td>\n",
       "      <td>-0.1</td>\n",
       "      <td>0.2</td>\n",
       "      <td>5.7</td>\n",
       "    </tr>\n",
       "    <tr>\n",
       "      <th>2022Q4</th>\n",
       "      <td>-0.3</td>\n",
       "      <td>-0.5</td>\n",
       "      <td>2.4</td>\n",
       "      <td>1.3</td>\n",
       "      <td>-4.2</td>\n",
       "      <td>-3.9</td>\n",
       "    </tr>\n",
       "    <tr>\n",
       "      <th>2023Q1</th>\n",
       "      <td>0.3</td>\n",
       "      <td>0.6</td>\n",
       "      <td>-5.0</td>\n",
       "      <td>1.3</td>\n",
       "      <td>5.1</td>\n",
       "      <td>4.6</td>\n",
       "    </tr>\n",
       "  </tbody>\n",
       "</table>\n",
       "<p>252 rows × 6 columns</p>\n",
       "</div>"
      ],
      "text/plain": [
       "         A1   A2    A3    A4    A5    A6\n",
       "date                                    \n",
       "1960Q2  4.5  5.4  15.6   3.5  34.1   1.0\n",
       "1960Q3 -1.1 -4.0 -14.0 -16.7  -5.5 -25.1\n",
       "1960Q4  0.6  3.9   2.2 -10.0  17.3   5.7\n",
       "1961Q1  3.2  0.9   0.6  24.5   5.9   8.9\n",
       "1961Q2  4.3 -1.0   4.8   1.7  -6.0  14.2\n",
       "...     ...  ...   ...   ...   ...   ...\n",
       "2022Q1  0.7 -0.6  -4.2  -2.5   4.2   0.0\n",
       "2022Q2  0.8  2.9   1.6  -0.6  -2.6  -1.8\n",
       "2022Q3  0.2  1.6   7.0  -0.1   0.2   5.7\n",
       "2022Q4 -0.3 -0.5   2.4   1.3  -4.2  -3.9\n",
       "2023Q1  0.3  0.6  -5.0   1.3   5.1   4.6\n",
       "\n",
       "[252 rows x 6 columns]"
      ]
     },
     "execution_count": 6,
     "metadata": {},
     "output_type": "execute_result"
    }
   ],
   "source": [
    "# 계열 time index 및 길이 조정\n",
    "p_rng = pd.period_range('1960Q2', '2023Q1', freq='Q-FEB')\n",
    "df_Q = dataset_Q.iloc[2:254].set_index(p_rng)\n",
    "df_Q = df_Q.iloc[:,1:].astype('float')\n",
    "df_Q.index.name = 'date'\n",
    "df_Q"
   ]
  },
  {
   "cell_type": "code",
   "execution_count": 7,
   "metadata": {},
   "outputs": [
    {
     "data": {
      "text/html": [
       "<div>\n",
       "<style scoped>\n",
       "    .dataframe tbody tr th:only-of-type {\n",
       "        vertical-align: middle;\n",
       "    }\n",
       "\n",
       "    .dataframe tbody tr th {\n",
       "        vertical-align: top;\n",
       "    }\n",
       "\n",
       "    .dataframe thead th {\n",
       "        text-align: right;\n",
       "    }\n",
       "</style>\n",
       "<table border=\"1\" class=\"dataframe\">\n",
       "  <thead>\n",
       "    <tr style=\"text-align: right;\">\n",
       "      <th></th>\n",
       "      <th>A1</th>\n",
       "      <th>A2</th>\n",
       "      <th>A3</th>\n",
       "      <th>A4</th>\n",
       "      <th>A5</th>\n",
       "      <th>A6</th>\n",
       "    </tr>\n",
       "  </thead>\n",
       "  <tbody>\n",
       "    <tr>\n",
       "      <th>count</th>\n",
       "      <td>252.000000</td>\n",
       "      <td>252.000000</td>\n",
       "      <td>252.000000</td>\n",
       "      <td>252.000000</td>\n",
       "      <td>252.000000</td>\n",
       "      <td>252.000000</td>\n",
       "    </tr>\n",
       "    <tr>\n",
       "      <th>mean</th>\n",
       "      <td>1.721825</td>\n",
       "      <td>1.407937</td>\n",
       "      <td>3.104762</td>\n",
       "      <td>2.283730</td>\n",
       "      <td>4.050794</td>\n",
       "      <td>2.880159</td>\n",
       "    </tr>\n",
       "    <tr>\n",
       "      <th>std</th>\n",
       "      <td>1.976505</td>\n",
       "      <td>1.966355</td>\n",
       "      <td>9.667239</td>\n",
       "      <td>8.728281</td>\n",
       "      <td>7.576670</td>\n",
       "      <td>9.257709</td>\n",
       "    </tr>\n",
       "    <tr>\n",
       "      <th>min</th>\n",
       "      <td>-6.800000</td>\n",
       "      <td>-13.800000</td>\n",
       "      <td>-24.900000</td>\n",
       "      <td>-27.000000</td>\n",
       "      <td>-18.500000</td>\n",
       "      <td>-33.200000</td>\n",
       "    </tr>\n",
       "    <tr>\n",
       "      <th>25%</th>\n",
       "      <td>0.700000</td>\n",
       "      <td>0.600000</td>\n",
       "      <td>-1.650000</td>\n",
       "      <td>-1.500000</td>\n",
       "      <td>0.375000</td>\n",
       "      <td>-0.825000</td>\n",
       "    </tr>\n",
       "    <tr>\n",
       "      <th>50%</th>\n",
       "      <td>1.550000</td>\n",
       "      <td>1.300000</td>\n",
       "      <td>1.900000</td>\n",
       "      <td>1.200000</td>\n",
       "      <td>2.900000</td>\n",
       "      <td>2.600000</td>\n",
       "    </tr>\n",
       "    <tr>\n",
       "      <th>75%</th>\n",
       "      <td>2.900000</td>\n",
       "      <td>2.325000</td>\n",
       "      <td>7.525000</td>\n",
       "      <td>4.200000</td>\n",
       "      <td>6.500000</td>\n",
       "      <td>6.400000</td>\n",
       "    </tr>\n",
       "    <tr>\n",
       "      <th>max</th>\n",
       "      <td>8.100000</td>\n",
       "      <td>9.400000</td>\n",
       "      <td>54.500000</td>\n",
       "      <td>35.000000</td>\n",
       "      <td>60.100000</td>\n",
       "      <td>61.300000</td>\n",
       "    </tr>\n",
       "  </tbody>\n",
       "</table>\n",
       "</div>"
      ],
      "text/plain": [
       "               A1          A2          A3          A4          A5          A6\n",
       "count  252.000000  252.000000  252.000000  252.000000  252.000000  252.000000\n",
       "mean     1.721825    1.407937    3.104762    2.283730    4.050794    2.880159\n",
       "std      1.976505    1.966355    9.667239    8.728281    7.576670    9.257709\n",
       "min     -6.800000  -13.800000  -24.900000  -27.000000  -18.500000  -33.200000\n",
       "25%      0.700000    0.600000   -1.650000   -1.500000    0.375000   -0.825000\n",
       "50%      1.550000    1.300000    1.900000    1.200000    2.900000    2.600000\n",
       "75%      2.900000    2.325000    7.525000    4.200000    6.500000    6.400000\n",
       "max      8.100000    9.400000   54.500000   35.000000   60.100000   61.300000"
      ]
     },
     "execution_count": 7,
     "metadata": {},
     "output_type": "execute_result"
    }
   ],
   "source": [
    "df_Q.describe()"
   ]
  },
  {
   "cell_type": "code",
   "execution_count": 8,
   "metadata": {},
   "outputs": [
    {
     "name": "stdout",
     "output_type": "stream",
     "text": [
      "      date     B7     B8   C9  C10  C11  C12  D13  D14  D15  ...  N93  O94  \\\n",
      "0       단위     지수     지수   지수   지수   지수   지수   지수   지수   지수  ...   %   천원    \n",
      "1       변환    원자료    원자료  원자료  원자료  원자료  원자료  원자료  원자료  원자료  ...  원자료  원자료   \n",
      "2  1970/01    101  100.6  NaN  NaN  NaN  NaN  NaN  NaN  NaN  ...  NaN  NaN   \n",
      "3  1970/02  100.9  101.5  NaN  NaN  NaN  NaN  NaN  NaN  NaN  ...  NaN  NaN   \n",
      "4  1970/03  100.8  101.9  NaN  NaN  NaN  NaN  NaN  NaN  NaN  ...  NaN  NaN   \n",
      "\n",
      "   O95  O96  O97  O98  O99  O100  O101  O102  \n",
      "0   주   천원   천원    주   천원   백만원   백만원   백만원   \n",
      "1  원자료  원자료  원자료  원자료  원자료   원자료   원자료   원자료  \n",
      "2  NaN  NaN  NaN  NaN  NaN   NaN   NaN   NaN  \n",
      "3  NaN  NaN  NaN  NaN  NaN   NaN   NaN   NaN  \n",
      "4  NaN  NaN  NaN  NaN  NaN   NaN   NaN   NaN  \n",
      "\n",
      "[5 rows x 97 columns]\n",
      "\n",
      "변수의 개수 -------------- 97\n",
      "데이터의 길이 ------------ 642\n",
      "\n",
      "      date   B7     B8   C9  C10  C11  C12  D13  D14  D15  ...  N93  O94  O95  \\\n",
      "2  1970/01  101  100.6  NaN  NaN  NaN  NaN  NaN  NaN  NaN  ...  NaN  NaN  NaN   \n",
      "\n",
      "   O96  O97  O98  O99 O100 O101 O102  \n",
      "2  NaN  NaN  NaN  NaN  NaN  NaN  NaN  \n",
      "\n",
      "[1 rows x 97 columns]\n",
      "\n",
      "        date   B7   B8   C9  C10  C11  C12  D13  D14  D15  ...  N93  O94  O95  \\\n",
      "643  2023/06  NaN  NaN  NaN  NaN  NaN  NaN  NaN  NaN  NaN  ...  NaN  NaN  NaN   \n",
      "\n",
      "     O96  O97  O98  O99 O100 O101 O102  \n",
      "643  NaN  NaN  NaN  NaN  NaN  NaN  NaN  \n",
      "\n",
      "[1 rows x 97 columns]\n"
     ]
    }
   ],
   "source": [
    "dataset_M = pd.read_excel(os.path.join(data_path,data_list[2]),sheet_name=3,header=2)\n",
    "print(dataset_M.head())\n",
    "col_M = dataset_M.columns\n",
    "print(f\"\\n변수의 개수 -------------- {len(col_M)}\")\n",
    "print(f\"데이터의 길이 ------------ {len(dataset_M.iloc[2:])}\")\n",
    "# for i, col in enumerate(col_M):\n",
    "  # print(f\"{col}계열의 NaN 개수 ----- {sum(dataset_M[col].iloc[2:].isna())}\")\n",
    "print(f\"\\n{dataset_M.iloc[2:3]}\")\n",
    "print(f\"\\n{dataset_M.iloc[-1:]}\")"
   ]
  },
  {
   "cell_type": "code",
   "execution_count": 10,
   "metadata": {},
   "outputs": [
    {
     "data": {
      "text/html": [
       "<div>\n",
       "<style scoped>\n",
       "    .dataframe tbody tr th:only-of-type {\n",
       "        vertical-align: middle;\n",
       "    }\n",
       "\n",
       "    .dataframe tbody tr th {\n",
       "        vertical-align: top;\n",
       "    }\n",
       "\n",
       "    .dataframe thead th {\n",
       "        text-align: right;\n",
       "    }\n",
       "</style>\n",
       "<table border=\"1\" class=\"dataframe\">\n",
       "  <thead>\n",
       "    <tr style=\"text-align: right;\">\n",
       "      <th></th>\n",
       "      <th>B7</th>\n",
       "      <th>B8</th>\n",
       "      <th>C9</th>\n",
       "      <th>C10</th>\n",
       "      <th>C11</th>\n",
       "      <th>C12</th>\n",
       "      <th>D13</th>\n",
       "      <th>D14</th>\n",
       "      <th>D15</th>\n",
       "      <th>E16</th>\n",
       "      <th>...</th>\n",
       "      <th>N93</th>\n",
       "      <th>O94</th>\n",
       "      <th>O95</th>\n",
       "      <th>O96</th>\n",
       "      <th>O97</th>\n",
       "      <th>O98</th>\n",
       "      <th>O99</th>\n",
       "      <th>O100</th>\n",
       "      <th>O101</th>\n",
       "      <th>O102</th>\n",
       "    </tr>\n",
       "    <tr>\n",
       "      <th>date</th>\n",
       "      <th></th>\n",
       "      <th></th>\n",
       "      <th></th>\n",
       "      <th></th>\n",
       "      <th></th>\n",
       "      <th></th>\n",
       "      <th></th>\n",
       "      <th></th>\n",
       "      <th></th>\n",
       "      <th></th>\n",
       "      <th></th>\n",
       "      <th></th>\n",
       "      <th></th>\n",
       "      <th></th>\n",
       "      <th></th>\n",
       "      <th></th>\n",
       "      <th></th>\n",
       "      <th></th>\n",
       "      <th></th>\n",
       "      <th></th>\n",
       "      <th></th>\n",
       "    </tr>\n",
       "  </thead>\n",
       "  <tbody>\n",
       "    <tr>\n",
       "      <th>1970-01-01</th>\n",
       "      <td>101.0</td>\n",
       "      <td>100.6</td>\n",
       "      <td>NaN</td>\n",
       "      <td>NaN</td>\n",
       "      <td>NaN</td>\n",
       "      <td>NaN</td>\n",
       "      <td>NaN</td>\n",
       "      <td>NaN</td>\n",
       "      <td>NaN</td>\n",
       "      <td>NaN</td>\n",
       "      <td>...</td>\n",
       "      <td>NaN</td>\n",
       "      <td>NaN</td>\n",
       "      <td>NaN</td>\n",
       "      <td>NaN</td>\n",
       "      <td>NaN</td>\n",
       "      <td>NaN</td>\n",
       "      <td>NaN</td>\n",
       "      <td>NaN</td>\n",
       "      <td>NaN</td>\n",
       "      <td>NaN</td>\n",
       "    </tr>\n",
       "    <tr>\n",
       "      <th>1970-02-01</th>\n",
       "      <td>100.9</td>\n",
       "      <td>101.5</td>\n",
       "      <td>NaN</td>\n",
       "      <td>NaN</td>\n",
       "      <td>NaN</td>\n",
       "      <td>NaN</td>\n",
       "      <td>NaN</td>\n",
       "      <td>NaN</td>\n",
       "      <td>NaN</td>\n",
       "      <td>NaN</td>\n",
       "      <td>...</td>\n",
       "      <td>NaN</td>\n",
       "      <td>NaN</td>\n",
       "      <td>NaN</td>\n",
       "      <td>NaN</td>\n",
       "      <td>NaN</td>\n",
       "      <td>NaN</td>\n",
       "      <td>NaN</td>\n",
       "      <td>NaN</td>\n",
       "      <td>NaN</td>\n",
       "      <td>NaN</td>\n",
       "    </tr>\n",
       "    <tr>\n",
       "      <th>1970-03-01</th>\n",
       "      <td>100.8</td>\n",
       "      <td>101.9</td>\n",
       "      <td>NaN</td>\n",
       "      <td>NaN</td>\n",
       "      <td>NaN</td>\n",
       "      <td>NaN</td>\n",
       "      <td>NaN</td>\n",
       "      <td>NaN</td>\n",
       "      <td>NaN</td>\n",
       "      <td>NaN</td>\n",
       "      <td>...</td>\n",
       "      <td>NaN</td>\n",
       "      <td>NaN</td>\n",
       "      <td>NaN</td>\n",
       "      <td>NaN</td>\n",
       "      <td>NaN</td>\n",
       "      <td>NaN</td>\n",
       "      <td>NaN</td>\n",
       "      <td>NaN</td>\n",
       "      <td>NaN</td>\n",
       "      <td>NaN</td>\n",
       "    </tr>\n",
       "    <tr>\n",
       "      <th>1970-04-01</th>\n",
       "      <td>100.6</td>\n",
       "      <td>103.2</td>\n",
       "      <td>NaN</td>\n",
       "      <td>NaN</td>\n",
       "      <td>NaN</td>\n",
       "      <td>NaN</td>\n",
       "      <td>NaN</td>\n",
       "      <td>NaN</td>\n",
       "      <td>NaN</td>\n",
       "      <td>NaN</td>\n",
       "      <td>...</td>\n",
       "      <td>NaN</td>\n",
       "      <td>NaN</td>\n",
       "      <td>NaN</td>\n",
       "      <td>NaN</td>\n",
       "      <td>NaN</td>\n",
       "      <td>NaN</td>\n",
       "      <td>NaN</td>\n",
       "      <td>NaN</td>\n",
       "      <td>NaN</td>\n",
       "      <td>NaN</td>\n",
       "    </tr>\n",
       "    <tr>\n",
       "      <th>1970-05-01</th>\n",
       "      <td>100.5</td>\n",
       "      <td>103.2</td>\n",
       "      <td>NaN</td>\n",
       "      <td>NaN</td>\n",
       "      <td>NaN</td>\n",
       "      <td>NaN</td>\n",
       "      <td>NaN</td>\n",
       "      <td>NaN</td>\n",
       "      <td>NaN</td>\n",
       "      <td>NaN</td>\n",
       "      <td>...</td>\n",
       "      <td>NaN</td>\n",
       "      <td>NaN</td>\n",
       "      <td>NaN</td>\n",
       "      <td>NaN</td>\n",
       "      <td>NaN</td>\n",
       "      <td>NaN</td>\n",
       "      <td>NaN</td>\n",
       "      <td>NaN</td>\n",
       "      <td>NaN</td>\n",
       "      <td>NaN</td>\n",
       "    </tr>\n",
       "    <tr>\n",
       "      <th>...</th>\n",
       "      <td>...</td>\n",
       "      <td>...</td>\n",
       "      <td>...</td>\n",
       "      <td>...</td>\n",
       "      <td>...</td>\n",
       "      <td>...</td>\n",
       "      <td>...</td>\n",
       "      <td>...</td>\n",
       "      <td>...</td>\n",
       "      <td>...</td>\n",
       "      <td>...</td>\n",
       "      <td>...</td>\n",
       "      <td>...</td>\n",
       "      <td>...</td>\n",
       "      <td>...</td>\n",
       "      <td>...</td>\n",
       "      <td>...</td>\n",
       "      <td>...</td>\n",
       "      <td>...</td>\n",
       "      <td>...</td>\n",
       "      <td>...</td>\n",
       "    </tr>\n",
       "    <tr>\n",
       "      <th>2023-02-01</th>\n",
       "      <td>98.4</td>\n",
       "      <td>99.2</td>\n",
       "      <td>110.1</td>\n",
       "      <td>99.0</td>\n",
       "      <td>106.6054</td>\n",
       "      <td>116.4</td>\n",
       "      <td>97.4</td>\n",
       "      <td>119.0</td>\n",
       "      <td>96.5</td>\n",
       "      <td>107.6</td>\n",
       "      <td>...</td>\n",
       "      <td>1.7</td>\n",
       "      <td>1.906496e+12</td>\n",
       "      <td>9.658016e+09</td>\n",
       "      <td>1.603751e+11</td>\n",
       "      <td>3.719130e+11</td>\n",
       "      <td>2.335491e+10</td>\n",
       "      <td>1.925959e+11</td>\n",
       "      <td>2.400031e+09</td>\n",
       "      <td>76914960.0</td>\n",
       "      <td>77551528.0</td>\n",
       "    </tr>\n",
       "    <tr>\n",
       "      <th>2023-03-01</th>\n",
       "      <td>98.2</td>\n",
       "      <td>99.7</td>\n",
       "      <td>111.4</td>\n",
       "      <td>104.2</td>\n",
       "      <td>102.0678</td>\n",
       "      <td>115.8</td>\n",
       "      <td>100.8</td>\n",
       "      <td>118.1</td>\n",
       "      <td>101.3</td>\n",
       "      <td>107.7</td>\n",
       "      <td>...</td>\n",
       "      <td>1.5</td>\n",
       "      <td>1.957926e+12</td>\n",
       "      <td>1.007835e+10</td>\n",
       "      <td>1.965661e+11</td>\n",
       "      <td>3.990974e+11</td>\n",
       "      <td>2.629994e+10</td>\n",
       "      <td>2.802401e+11</td>\n",
       "      <td>2.412701e+09</td>\n",
       "      <td>96756124.0</td>\n",
       "      <td>97609811.0</td>\n",
       "    </tr>\n",
       "    <tr>\n",
       "      <th>2023-04-01</th>\n",
       "      <td>98.0</td>\n",
       "      <td>99.9</td>\n",
       "      <td>109.8</td>\n",
       "      <td>102.9</td>\n",
       "      <td>103.3226</td>\n",
       "      <td>115.4</td>\n",
       "      <td>96.2</td>\n",
       "      <td>125.4</td>\n",
       "      <td>100.1</td>\n",
       "      <td>105.2</td>\n",
       "      <td>...</td>\n",
       "      <td>NaN</td>\n",
       "      <td>1.979839e+12</td>\n",
       "      <td>1.670147e+10</td>\n",
       "      <td>2.518095e+11</td>\n",
       "      <td>4.013092e+11</td>\n",
       "      <td>3.180945e+10</td>\n",
       "      <td>2.762895e+11</td>\n",
       "      <td>2.431706e+09</td>\n",
       "      <td>89118276.0</td>\n",
       "      <td>90658204.0</td>\n",
       "    </tr>\n",
       "    <tr>\n",
       "      <th>2023-05-01</th>\n",
       "      <td>NaN</td>\n",
       "      <td>NaN</td>\n",
       "      <td>NaN</td>\n",
       "      <td>NaN</td>\n",
       "      <td>NaN</td>\n",
       "      <td>NaN</td>\n",
       "      <td>NaN</td>\n",
       "      <td>NaN</td>\n",
       "      <td>NaN</td>\n",
       "      <td>NaN</td>\n",
       "      <td>...</td>\n",
       "      <td>NaN</td>\n",
       "      <td>2.039961e+12</td>\n",
       "      <td>1.383320e+10</td>\n",
       "      <td>1.826777e+11</td>\n",
       "      <td>4.107628e+11</td>\n",
       "      <td>2.540346e+10</td>\n",
       "      <td>1.781975e+11</td>\n",
       "      <td>2.460581e+09</td>\n",
       "      <td>119306924.0</td>\n",
       "      <td>121242437.0</td>\n",
       "    </tr>\n",
       "    <tr>\n",
       "      <th>2023-06-01</th>\n",
       "      <td>NaN</td>\n",
       "      <td>NaN</td>\n",
       "      <td>NaN</td>\n",
       "      <td>NaN</td>\n",
       "      <td>NaN</td>\n",
       "      <td>NaN</td>\n",
       "      <td>NaN</td>\n",
       "      <td>NaN</td>\n",
       "      <td>NaN</td>\n",
       "      <td>NaN</td>\n",
       "      <td>...</td>\n",
       "      <td>NaN</td>\n",
       "      <td>NaN</td>\n",
       "      <td>NaN</td>\n",
       "      <td>NaN</td>\n",
       "      <td>NaN</td>\n",
       "      <td>NaN</td>\n",
       "      <td>NaN</td>\n",
       "      <td>NaN</td>\n",
       "      <td>NaN</td>\n",
       "      <td>NaN</td>\n",
       "    </tr>\n",
       "  </tbody>\n",
       "</table>\n",
       "<p>642 rows × 96 columns</p>\n",
       "</div>"
      ],
      "text/plain": [
       "               B7     B8     C9    C10       C11    C12    D13    D14    D15  \\\n",
       "date                                                                           \n",
       "1970-01-01  101.0  100.6    NaN    NaN       NaN    NaN    NaN    NaN    NaN   \n",
       "1970-02-01  100.9  101.5    NaN    NaN       NaN    NaN    NaN    NaN    NaN   \n",
       "1970-03-01  100.8  101.9    NaN    NaN       NaN    NaN    NaN    NaN    NaN   \n",
       "1970-04-01  100.6  103.2    NaN    NaN       NaN    NaN    NaN    NaN    NaN   \n",
       "1970-05-01  100.5  103.2    NaN    NaN       NaN    NaN    NaN    NaN    NaN   \n",
       "...           ...    ...    ...    ...       ...    ...    ...    ...    ...   \n",
       "2023-02-01   98.4   99.2  110.1   99.0  106.6054  116.4   97.4  119.0   96.5   \n",
       "2023-03-01   98.2   99.7  111.4  104.2  102.0678  115.8  100.8  118.1  101.3   \n",
       "2023-04-01   98.0   99.9  109.8  102.9  103.3226  115.4   96.2  125.4  100.1   \n",
       "2023-05-01    NaN    NaN    NaN    NaN       NaN    NaN    NaN    NaN    NaN   \n",
       "2023-06-01    NaN    NaN    NaN    NaN       NaN    NaN    NaN    NaN    NaN   \n",
       "\n",
       "              E16  ...  N93           O94           O95           O96  \\\n",
       "date               ...                                                  \n",
       "1970-01-01    NaN  ...  NaN           NaN           NaN           NaN   \n",
       "1970-02-01    NaN  ...  NaN           NaN           NaN           NaN   \n",
       "1970-03-01    NaN  ...  NaN           NaN           NaN           NaN   \n",
       "1970-04-01    NaN  ...  NaN           NaN           NaN           NaN   \n",
       "1970-05-01    NaN  ...  NaN           NaN           NaN           NaN   \n",
       "...           ...  ...  ...           ...           ...           ...   \n",
       "2023-02-01  107.6  ...  1.7  1.906496e+12  9.658016e+09  1.603751e+11   \n",
       "2023-03-01  107.7  ...  1.5  1.957926e+12  1.007835e+10  1.965661e+11   \n",
       "2023-04-01  105.2  ...  NaN  1.979839e+12  1.670147e+10  2.518095e+11   \n",
       "2023-05-01    NaN  ...  NaN  2.039961e+12  1.383320e+10  1.826777e+11   \n",
       "2023-06-01    NaN  ...  NaN           NaN           NaN           NaN   \n",
       "\n",
       "                     O97           O98           O99          O100  \\\n",
       "date                                                                 \n",
       "1970-01-01           NaN           NaN           NaN           NaN   \n",
       "1970-02-01           NaN           NaN           NaN           NaN   \n",
       "1970-03-01           NaN           NaN           NaN           NaN   \n",
       "1970-04-01           NaN           NaN           NaN           NaN   \n",
       "1970-05-01           NaN           NaN           NaN           NaN   \n",
       "...                  ...           ...           ...           ...   \n",
       "2023-02-01  3.719130e+11  2.335491e+10  1.925959e+11  2.400031e+09   \n",
       "2023-03-01  3.990974e+11  2.629994e+10  2.802401e+11  2.412701e+09   \n",
       "2023-04-01  4.013092e+11  3.180945e+10  2.762895e+11  2.431706e+09   \n",
       "2023-05-01  4.107628e+11  2.540346e+10  1.781975e+11  2.460581e+09   \n",
       "2023-06-01           NaN           NaN           NaN           NaN   \n",
       "\n",
       "                   O101         O102  \n",
       "date                                  \n",
       "1970-01-01          NaN          NaN  \n",
       "1970-02-01          NaN          NaN  \n",
       "1970-03-01          NaN          NaN  \n",
       "1970-04-01          NaN          NaN  \n",
       "1970-05-01          NaN          NaN  \n",
       "...                 ...          ...  \n",
       "2023-02-01   76914960.0   77551528.0  \n",
       "2023-03-01   96756124.0   97609811.0  \n",
       "2023-04-01   89118276.0   90658204.0  \n",
       "2023-05-01  119306924.0  121242437.0  \n",
       "2023-06-01          NaN          NaN  \n",
       "\n",
       "[642 rows x 96 columns]"
      ]
     },
     "execution_count": 10,
     "metadata": {},
     "output_type": "execute_result"
    }
   ],
   "source": [
    "# 계열 time index 및 길이 조정\n",
    "date = pd.to_datetime(dataset_M['date'][2:])\n",
    "df_M = dataset_M.iloc[2:].set_index(date)\n",
    "df_M = df_M.iloc[:,1:].astype('float')\n",
    "df_M.index.name = 'date'\n",
    "df_M"
   ]
  },
  {
   "cell_type": "code",
   "execution_count": 11,
   "metadata": {},
   "outputs": [
    {
     "data": {
      "text/html": [
       "<div>\n",
       "<style scoped>\n",
       "    .dataframe tbody tr th:only-of-type {\n",
       "        vertical-align: middle;\n",
       "    }\n",
       "\n",
       "    .dataframe tbody tr th {\n",
       "        vertical-align: top;\n",
       "    }\n",
       "\n",
       "    .dataframe thead th {\n",
       "        text-align: right;\n",
       "    }\n",
       "</style>\n",
       "<table border=\"1\" class=\"dataframe\">\n",
       "  <thead>\n",
       "    <tr style=\"text-align: right;\">\n",
       "      <th></th>\n",
       "      <th>B7</th>\n",
       "      <th>B8</th>\n",
       "      <th>C9</th>\n",
       "      <th>C10</th>\n",
       "      <th>C11</th>\n",
       "      <th>C12</th>\n",
       "      <th>D13</th>\n",
       "      <th>D14</th>\n",
       "      <th>D15</th>\n",
       "      <th>E16</th>\n",
       "      <th>...</th>\n",
       "      <th>N93</th>\n",
       "      <th>O94</th>\n",
       "      <th>O95</th>\n",
       "      <th>O96</th>\n",
       "      <th>O97</th>\n",
       "      <th>O98</th>\n",
       "      <th>O99</th>\n",
       "      <th>O100</th>\n",
       "      <th>O101</th>\n",
       "      <th>O102</th>\n",
       "    </tr>\n",
       "  </thead>\n",
       "  <tbody>\n",
       "    <tr>\n",
       "      <th>count</th>\n",
       "      <td>640.000000</td>\n",
       "      <td>640.000000</td>\n",
       "      <td>280.000000</td>\n",
       "      <td>280.000000</td>\n",
       "      <td>280.000000</td>\n",
       "      <td>280.000000</td>\n",
       "      <td>520.000000</td>\n",
       "      <td>520.000000</td>\n",
       "      <td>520.000000</td>\n",
       "      <td>340.000000</td>\n",
       "      <td>...</td>\n",
       "      <td>215.000000</td>\n",
       "      <td>2.210000e+02</td>\n",
       "      <td>2.210000e+02</td>\n",
       "      <td>2.210000e+02</td>\n",
       "      <td>2.330000e+02</td>\n",
       "      <td>2.330000e+02</td>\n",
       "      <td>2.330000e+02</td>\n",
       "      <td>1.970000e+02</td>\n",
       "      <td>1.970000e+02</td>\n",
       "      <td>1.970000e+02</td>\n",
       "    </tr>\n",
       "    <tr>\n",
       "      <th>mean</th>\n",
       "      <td>100.284219</td>\n",
       "      <td>100.245781</td>\n",
       "      <td>83.888571</td>\n",
       "      <td>81.736786</td>\n",
       "      <td>87.334307</td>\n",
       "      <td>84.691071</td>\n",
       "      <td>54.892310</td>\n",
       "      <td>49.547829</td>\n",
       "      <td>106.917498</td>\n",
       "      <td>74.312059</td>\n",
       "      <td>...</td>\n",
       "      <td>1.855349</td>\n",
       "      <td>1.225686e+12</td>\n",
       "      <td>9.621031e+09</td>\n",
       "      <td>1.293189e+11</td>\n",
       "      <td>1.694386e+11</td>\n",
       "      <td>1.533445e+10</td>\n",
       "      <td>7.773220e+10</td>\n",
       "      <td>1.504317e+09</td>\n",
       "      <td>1.205658e+08</td>\n",
       "      <td>1.210745e+08</td>\n",
       "    </tr>\n",
       "    <tr>\n",
       "      <th>std</th>\n",
       "      <td>2.282776</td>\n",
       "      <td>1.953020</td>\n",
       "      <td>16.349909</td>\n",
       "      <td>20.329643</td>\n",
       "      <td>11.270357</td>\n",
       "      <td>15.872133</td>\n",
       "      <td>34.781698</td>\n",
       "      <td>30.993166</td>\n",
       "      <td>6.520103</td>\n",
       "      <td>19.766842</td>\n",
       "      <td>...</td>\n",
       "      <td>0.509037</td>\n",
       "      <td>4.459306e+11</td>\n",
       "      <td>4.904664e+09</td>\n",
       "      <td>7.081515e+10</td>\n",
       "      <td>1.115793e+11</td>\n",
       "      <td>8.682389e+09</td>\n",
       "      <td>6.875946e+10</td>\n",
       "      <td>4.587415e+08</td>\n",
       "      <td>7.897373e+07</td>\n",
       "      <td>7.980345e+07</td>\n",
       "    </tr>\n",
       "    <tr>\n",
       "      <th>min</th>\n",
       "      <td>91.800000</td>\n",
       "      <td>93.000000</td>\n",
       "      <td>52.500000</td>\n",
       "      <td>44.800000</td>\n",
       "      <td>58.916200</td>\n",
       "      <td>55.000000</td>\n",
       "      <td>6.558000</td>\n",
       "      <td>6.653000</td>\n",
       "      <td>86.147000</td>\n",
       "      <td>40.700000</td>\n",
       "      <td>...</td>\n",
       "      <td>0.100000</td>\n",
       "      <td>4.226400e+11</td>\n",
       "      <td>3.763932e+09</td>\n",
       "      <td>3.740209e+10</td>\n",
       "      <td>2.710246e+10</td>\n",
       "      <td>4.139789e+09</td>\n",
       "      <td>9.035163e+09</td>\n",
       "      <td>7.824629e+08</td>\n",
       "      <td>1.957878e+07</td>\n",
       "      <td>1.897600e+07</td>\n",
       "    </tr>\n",
       "    <tr>\n",
       "      <th>25%</th>\n",
       "      <td>99.300000</td>\n",
       "      <td>99.200000</td>\n",
       "      <td>69.350000</td>\n",
       "      <td>62.350000</td>\n",
       "      <td>80.106875</td>\n",
       "      <td>69.475000</td>\n",
       "      <td>21.851500</td>\n",
       "      <td>22.637000</td>\n",
       "      <td>103.724500</td>\n",
       "      <td>60.275000</td>\n",
       "      <td>...</td>\n",
       "      <td>1.600000</td>\n",
       "      <td>9.042962e+11</td>\n",
       "      <td>6.712882e+09</td>\n",
       "      <td>8.810944e+10</td>\n",
       "      <td>8.494023e+10</td>\n",
       "      <td>9.941983e+09</td>\n",
       "      <td>3.500367e+10</td>\n",
       "      <td>1.132000e+09</td>\n",
       "      <td>5.362002e+07</td>\n",
       "      <td>5.417861e+07</td>\n",
       "    </tr>\n",
       "    <tr>\n",
       "      <th>50%</th>\n",
       "      <td>100.200000</td>\n",
       "      <td>100.100000</td>\n",
       "      <td>87.800000</td>\n",
       "      <td>92.000000</td>\n",
       "      <td>86.056650</td>\n",
       "      <td>87.050000</td>\n",
       "      <td>51.662500</td>\n",
       "      <td>43.126500</td>\n",
       "      <td>108.219000</td>\n",
       "      <td>72.350000</td>\n",
       "      <td>...</td>\n",
       "      <td>1.800000</td>\n",
       "      <td>1.192617e+12</td>\n",
       "      <td>8.288867e+09</td>\n",
       "      <td>1.091885e+11</td>\n",
       "      <td>1.245730e+11</td>\n",
       "      <td>1.319057e+10</td>\n",
       "      <td>5.259801e+10</td>\n",
       "      <td>1.495359e+09</td>\n",
       "      <td>1.091518e+08</td>\n",
       "      <td>1.083814e+08</td>\n",
       "    </tr>\n",
       "    <tr>\n",
       "      <th>75%</th>\n",
       "      <td>101.000000</td>\n",
       "      <td>101.300000</td>\n",
       "      <td>98.225000</td>\n",
       "      <td>97.725000</td>\n",
       "      <td>95.194325</td>\n",
       "      <td>97.825000</td>\n",
       "      <td>94.998000</td>\n",
       "      <td>76.849750</td>\n",
       "      <td>111.760750</td>\n",
       "      <td>91.600000</td>\n",
       "      <td>...</td>\n",
       "      <td>2.100000</td>\n",
       "      <td>1.448767e+12</td>\n",
       "      <td>1.047213e+10</td>\n",
       "      <td>1.445572e+11</td>\n",
       "      <td>2.324615e+11</td>\n",
       "      <td>1.731343e+10</td>\n",
       "      <td>8.567499e+10</td>\n",
       "      <td>1.780662e+09</td>\n",
       "      <td>1.626088e+08</td>\n",
       "      <td>1.640880e+08</td>\n",
       "    </tr>\n",
       "    <tr>\n",
       "      <th>max</th>\n",
       "      <td>110.500000</td>\n",
       "      <td>106.100000</td>\n",
       "      <td>111.400000</td>\n",
       "      <td>115.500000</td>\n",
       "      <td>116.371300</td>\n",
       "      <td>116.400000</td>\n",
       "      <td>106.400000</td>\n",
       "      <td>125.400000</td>\n",
       "      <td>118.183000</td>\n",
       "      <td>108.300000</td>\n",
       "      <td>...</td>\n",
       "      <td>4.700000</td>\n",
       "      <td>2.309063e+12</td>\n",
       "      <td>3.535454e+10</td>\n",
       "      <td>5.295564e+11</td>\n",
       "      <td>4.462970e+11</td>\n",
       "      <td>5.549486e+10</td>\n",
       "      <td>3.241969e+11</td>\n",
       "      <td>2.460581e+09</td>\n",
       "      <td>5.117159e+08</td>\n",
       "      <td>5.199584e+08</td>\n",
       "    </tr>\n",
       "  </tbody>\n",
       "</table>\n",
       "<p>8 rows × 96 columns</p>\n",
       "</div>"
      ],
      "text/plain": [
       "               B7          B8          C9         C10         C11         C12  \\\n",
       "count  640.000000  640.000000  280.000000  280.000000  280.000000  280.000000   \n",
       "mean   100.284219  100.245781   83.888571   81.736786   87.334307   84.691071   \n",
       "std      2.282776    1.953020   16.349909   20.329643   11.270357   15.872133   \n",
       "min     91.800000   93.000000   52.500000   44.800000   58.916200   55.000000   \n",
       "25%     99.300000   99.200000   69.350000   62.350000   80.106875   69.475000   \n",
       "50%    100.200000  100.100000   87.800000   92.000000   86.056650   87.050000   \n",
       "75%    101.000000  101.300000   98.225000   97.725000   95.194325   97.825000   \n",
       "max    110.500000  106.100000  111.400000  115.500000  116.371300  116.400000   \n",
       "\n",
       "              D13         D14         D15         E16  ...         N93  \\\n",
       "count  520.000000  520.000000  520.000000  340.000000  ...  215.000000   \n",
       "mean    54.892310   49.547829  106.917498   74.312059  ...    1.855349   \n",
       "std     34.781698   30.993166    6.520103   19.766842  ...    0.509037   \n",
       "min      6.558000    6.653000   86.147000   40.700000  ...    0.100000   \n",
       "25%     21.851500   22.637000  103.724500   60.275000  ...    1.600000   \n",
       "50%     51.662500   43.126500  108.219000   72.350000  ...    1.800000   \n",
       "75%     94.998000   76.849750  111.760750   91.600000  ...    2.100000   \n",
       "max    106.400000  125.400000  118.183000  108.300000  ...    4.700000   \n",
       "\n",
       "                O94           O95           O96           O97           O98  \\\n",
       "count  2.210000e+02  2.210000e+02  2.210000e+02  2.330000e+02  2.330000e+02   \n",
       "mean   1.225686e+12  9.621031e+09  1.293189e+11  1.694386e+11  1.533445e+10   \n",
       "std    4.459306e+11  4.904664e+09  7.081515e+10  1.115793e+11  8.682389e+09   \n",
       "min    4.226400e+11  3.763932e+09  3.740209e+10  2.710246e+10  4.139789e+09   \n",
       "25%    9.042962e+11  6.712882e+09  8.810944e+10  8.494023e+10  9.941983e+09   \n",
       "50%    1.192617e+12  8.288867e+09  1.091885e+11  1.245730e+11  1.319057e+10   \n",
       "75%    1.448767e+12  1.047213e+10  1.445572e+11  2.324615e+11  1.731343e+10   \n",
       "max    2.309063e+12  3.535454e+10  5.295564e+11  4.462970e+11  5.549486e+10   \n",
       "\n",
       "                O99          O100          O101          O102  \n",
       "count  2.330000e+02  1.970000e+02  1.970000e+02  1.970000e+02  \n",
       "mean   7.773220e+10  1.504317e+09  1.205658e+08  1.210745e+08  \n",
       "std    6.875946e+10  4.587415e+08  7.897373e+07  7.980345e+07  \n",
       "min    9.035163e+09  7.824629e+08  1.957878e+07  1.897600e+07  \n",
       "25%    3.500367e+10  1.132000e+09  5.362002e+07  5.417861e+07  \n",
       "50%    5.259801e+10  1.495359e+09  1.091518e+08  1.083814e+08  \n",
       "75%    8.567499e+10  1.780662e+09  1.626088e+08  1.640880e+08  \n",
       "max    3.241969e+11  2.460581e+09  5.117159e+08  5.199584e+08  \n",
       "\n",
       "[8 rows x 96 columns]"
      ]
     },
     "execution_count": 11,
     "metadata": {},
     "output_type": "execute_result"
    }
   ],
   "source": [
    "df_M.describe()"
   ]
  },
  {
   "cell_type": "code",
   "execution_count": 12,
   "metadata": {},
   "outputs": [
    {
     "data": {
      "text/plain": [
       "<AxesSubplot:xlabel='date'>"
      ]
     },
     "execution_count": 12,
     "metadata": {},
     "output_type": "execute_result"
    },
    {
     "name": "stderr",
     "output_type": "stream",
     "text": [
      "findfont: Font family ['NanumBarunGothic'] not found. Falling back to DejaVu Sans.\n"
     ]
    },
    {
     "data": {
      "image/png": "[encoded data removed]",
      "text/plain": [
       "<Figure size 1080x504 with 1 Axes>"
      ]
     },
     "metadata": {
      "needs_background": "light"
     },
     "output_type": "display_data"
    }
   ],
   "source": [
    "df_M['N92'].plot(figsize=(15,7))"
   ]
  },
  {
   "cell_type": "code",
   "execution_count": 13,
   "metadata": {},
   "outputs": [
    {
     "data": {
      "text/plain": [
       "'x13as.exe'"
      ]
     },
     "execution_count": 13,
     "metadata": {},
     "output_type": "execute_result"
    }
   ],
   "source": [
    "_find_x12()"
   ]
  },
  {
   "cell_type": "code",
   "execution_count": 14,
   "metadata": {},
   "outputs": [
    {
     "name": "stdout",
     "output_type": "stream",
     "text": [
      "(0, 1, 1) (0, 1, 1)\n"
     ]
    },
    {
     "name": "stderr",
     "output_type": "stream",
     "text": [
      "c:\\Users\\PC\\AppData\\Local\\Programs\\Python\\Python38\\lib\\site-packages\\statsmodels\\tsa\\x13.py:187: X13Warning: WARNING: At least one visually significant seasonal peak has been found\n",
      "          in the estimated spectrum of the regARIMA residuals.\n",
      "  warn(errors, X13Warning)\n"
     ]
    }
   ],
   "source": [
    "var = 'N92' # '예금은행 총대출 금리' N72'한국은행 기준금리' N71 # '수출물가지수' L64\n",
    "# x_path = 'D:\\2023\\Sadj\\x13as_ascii-v1-1-b59\\x13as'\n",
    "# data = pd.DataFrame(df_M[var].dropna())\n",
    "data = df_M[var].dropna()\n",
    "# type(df_M)\n",
    "# df_M\n",
    "res = sm.tsa.x13_arima_select_order(data, outlier=False) #, x12path=x_path, prefer_x13=True)\n",
    "print(res.order, res.sorder)\n",
    "\n",
    "# results = sm.tsa.x13_arima_analysis(data)\n",
    "\n",
    "# fig = results.plot()\n",
    "# fig.set_size_inches(12, 5)\n",
    "# fig.tight_layout()"
   ]
  },
  {
   "cell_type": "code",
   "execution_count": 15,
   "metadata": {},
   "outputs": [
    {
     "data": {
      "text/plain": [
       "<AxesSubplot:xlabel='date'>"
      ]
     },
     "execution_count": 15,
     "metadata": {},
     "output_type": "execute_result"
    },
    {
     "data": {
      "image/png": "[encoded data removed]",
      "text/plain": [
       "<Figure size 1080x504 with 1 Axes>"
      ]
     },
     "metadata": {
      "needs_background": "light"
     },
     "output_type": "display_data"
    }
   ],
   "source": [
    "# data.plot(title=\"{}\".format(var_info['Variable'][var_info['ID']==var])\\\n",
    "    # , figsize=(15,10))\n",
    "data.plot(figsize=(15,7))"
   ]
  },
  {
   "cell_type": "code",
   "execution_count": 16,
   "metadata": {},
   "outputs": [
    {
     "name": "stderr",
     "output_type": "stream",
     "text": [
      "c:\\Users\\PC\\AppData\\Local\\Programs\\Python\\Python38\\lib\\site-packages\\statsmodels\\tsa\\x13.py:187: X13Warning: WARNING: At least one visually significant seasonal peak has been found\n",
      "          in the estimated spectrum of the regARIMA residuals.\n",
      "  warn(errors, X13Warning)\n"
     ]
    },
    {
     "data": {
      "image/png": "[encoded data removed]",
      "text/plain": [
       "<Figure size 864x720 with 4 Axes>"
      ]
     },
     "metadata": {
      "needs_background": "light"
     },
     "output_type": "display_data"
    }
   ],
   "source": [
    "results = sm.tsa.x13_arima_analysis(data,outlier=False)\n",
    "fig = results.plot()\n",
    "fig.set_size_inches(12, 10)\n",
    "fig.tight_layout()"
   ]
  },
  {
   "cell_type": "code",
   "execution_count": 17,
   "metadata": {},
   "outputs": [
    {
     "name": "stdout",
     "output_type": "stream",
     "text": [
      "x12-arima 계절조정 작업 : G33 ------- 33    기계수주액\n",
      "Name: Variable, dtype: object\n",
      "x12-arima 계절조정 작업 : H34 ------- 34    미분양주택현황\n",
      "Name: Variable, dtype: object\n",
      "x12-arima 계절조정 작업 : H35 ------- 35    주택건설인허가실적\n",
      "Name: Variable, dtype: object\n"
     ]
    },
    {
     "name": "stderr",
     "output_type": "stream",
     "text": [
      "c:\\Users\\PC\\AppData\\Local\\Programs\\Python\\Python38\\lib\\site-packages\\statsmodels\\tsa\\x13.py:187: X13Warning: WARNING: At least one visually significant trading day peak has been\n",
      "          found in one or more of the estimated spectra.\n",
      "  warn(errors, X13Warning)\n"
     ]
    },
    {
     "name": "stdout",
     "output_type": "stream",
     "text": [
      "x12-arima 계절조정 작업 : H36 ------- 36    아파트 매매 실거래가격지수\n",
      "Name: Variable, dtype: object\n",
      "x12-arima 계절조정 작업 : I37 ------- 37    신용카드 이용건수\n",
      "Name: Variable, dtype: object\n"
     ]
    },
    {
     "name": "stderr",
     "output_type": "stream",
     "text": [
      "c:\\Users\\PC\\AppData\\Local\\Programs\\Python\\Python38\\lib\\site-packages\\statsmodels\\tsa\\x13.py:187: X13Warning: WARNING: At least one visually significant trading day peak has been\n",
      "          found in one or more of the estimated spectra.\n",
      "  warn(errors, X13Warning)\n"
     ]
    },
    {
     "name": "stdout",
     "output_type": "stream",
     "text": [
      "x12-arima 계절조정 작업 : I38 ------- 38    신용카드 이용금액\n",
      "Name: Variable, dtype: object\n",
      "x12-arima 계절조정 작업 : I39 ------- 39    소비자동향조사_CSI\\n(현재경기판단)\n",
      "Name: Variable, dtype: object\n",
      "x12-arima 계절조정 작업 : J40 ------- 40    전산업(업황실적)\n",
      "Name: Variable, dtype: object\n"
     ]
    },
    {
     "name": "stderr",
     "output_type": "stream",
     "text": [
      "c:\\Users\\PC\\AppData\\Local\\Programs\\Python\\Python38\\lib\\site-packages\\statsmodels\\tsa\\x13.py:187: X13Warning: WARNING: At least one visually significant seasonal peak has been found\n",
      "          in the estimated spectrum of the regARIMA residuals.\n",
      "  warn(errors, X13Warning)\n"
     ]
    },
    {
     "name": "stdout",
     "output_type": "stream",
     "text": [
      "x12-arima 계절조정 작업 : J41 ------- 41    전산업(매출실적)\n",
      "Name: Variable, dtype: object\n"
     ]
    },
    {
     "name": "stderr",
     "output_type": "stream",
     "text": [
      "c:\\Users\\PC\\AppData\\Local\\Programs\\Python\\Python38\\lib\\site-packages\\statsmodels\\tsa\\x13.py:187: X13Warning: WARNING: At least one visually significant trading day peak has been\n",
      "          found in the estimated spectrum of the regARIMA residuals.\n",
      "  \n",
      " WARNING: At least one visually significant trading day peak has been\n",
      "          found in one or more of the estimated spectra.\n",
      "  warn(errors, X13Warning)\n"
     ]
    },
    {
     "name": "stdout",
     "output_type": "stream",
     "text": [
      "x12-arima 계절조정 작업 : J42 ------- 42    제조업(업황실적)\n",
      "Name: Variable, dtype: object\n"
     ]
    },
    {
     "name": "stderr",
     "output_type": "stream",
     "text": [
      "c:\\Users\\PC\\AppData\\Local\\Programs\\Python\\Python38\\lib\\site-packages\\statsmodels\\tsa\\x13.py:187: X13Warning: WARNING: At least one visually significant seasonal peak has been found\n",
      "          in the estimated spectrum of the regARIMA residuals.\n",
      "  warn(errors, X13Warning)\n"
     ]
    },
    {
     "name": "stdout",
     "output_type": "stream",
     "text": [
      "x12-arima 계절조정 작업 : J43 ------- 43    제조업(매출실적)\n",
      "Name: Variable, dtype: object\n"
     ]
    },
    {
     "name": "stderr",
     "output_type": "stream",
     "text": [
      "c:\\Users\\PC\\AppData\\Local\\Programs\\Python\\Python38\\lib\\site-packages\\statsmodels\\tsa\\x13.py:187: X13Warning: WARNING: Visually significant seasonal and trading day peaks have \n",
      "          been found in the estimated spectrum of the regARIMA residuals.\n",
      "  warn(errors, X13Warning)\n"
     ]
    },
    {
     "name": "stdout",
     "output_type": "stream",
     "text": [
      "x12-arima 계절조정 작업 : J44 ------- 44    제조업(수출실적)\n",
      "Name: Variable, dtype: object\n",
      "x12-arima 계절조정 작업 : J45 ------- 45    제조업(가동률실적)\n",
      "Name: Variable, dtype: object\n"
     ]
    },
    {
     "name": "stderr",
     "output_type": "stream",
     "text": [
      "c:\\Users\\PC\\AppData\\Local\\Programs\\Python\\Python38\\lib\\site-packages\\statsmodels\\tsa\\x13.py:187: X13Warning: WARNING: At least one visually significant trading day peak has been\n",
      "          found in the estimated spectrum of the regARIMA residuals.\n",
      "  \n",
      " WARNING: At least one visually significant trading day peak has been\n",
      "          found in one or more of the estimated spectra.\n",
      "  warn(errors, X13Warning)\n"
     ]
    },
    {
     "name": "stdout",
     "output_type": "stream",
     "text": [
      "x12-arima 계절조정 작업 : J46 ------- 46    제조업(설비투자실적)\n",
      "Name: Variable, dtype: object\n"
     ]
    },
    {
     "name": "stderr",
     "output_type": "stream",
     "text": [
      "c:\\Users\\PC\\AppData\\Local\\Programs\\Python\\Python38\\lib\\site-packages\\statsmodels\\tsa\\x13.py:187: X13Warning: WARNING: At least one visually significant seasonal peak has been found\n",
      "          in the estimated spectrum of the regARIMA residuals.\n",
      "  warn(errors, X13Warning)\n"
     ]
    },
    {
     "name": "stdout",
     "output_type": "stream",
     "text": [
      "x12-arima 계절조정 작업 : J47 ------- 47    경제심리지수(순환변동치)\n",
      "Name: Variable, dtype: object\n",
      "x12-arima 계절조정 작업 : J48 ------- 48    기대인플레이션율\n",
      "Name: Variable, dtype: object\n"
     ]
    },
    {
     "name": "stderr",
     "output_type": "stream",
     "text": [
      "c:\\Users\\PC\\AppData\\Local\\Programs\\Python\\Python38\\lib\\site-packages\\statsmodels\\tsa\\x13.py:187: X13Warning: WARNING: At least one visually significant trading day peak has been\n",
      "          found in the estimated spectrum of the regARIMA residuals.\n",
      "  \n",
      " WARNING: At least one visually significant trading day peak has been\n",
      "          found in one or more of the estimated spectra.\n",
      "  warn(errors, X13Warning)\n"
     ]
    },
    {
     "name": "stdout",
     "output_type": "stream",
     "text": [
      "x12-arima 계절조정 작업 : L53 ------- 53    원/달러(종가,말일) 환율\n",
      "Name: Variable, dtype: object\n",
      "x12-arima 계절조정 작업 : L54 ------- 54    국별수출(관세청 통관기준)\n",
      "Name: Variable, dtype: object\n"
     ]
    },
    {
     "name": "stderr",
     "output_type": "stream",
     "text": [
      "c:\\Users\\PC\\AppData\\Local\\Programs\\Python\\Python38\\lib\\site-packages\\statsmodels\\tsa\\x13.py:187: X13Warning: WARNING: At least one visually significant trading day peak has been\n",
      "          found in the estimated spectrum of the regARIMA residuals.\n",
      "  \n",
      " WARNING: At least one visually significant trading day peak has been\n",
      "          found in one or more of the estimated spectra.\n",
      "  warn(errors, X13Warning)\n"
     ]
    },
    {
     "name": "stdout",
     "output_type": "stream",
     "text": [
      "x12-arima 계절조정 작업 : L55 ------- 55    국별수입(관세청 통관기준)\n",
      "Name: Variable, dtype: object\n"
     ]
    },
    {
     "name": "stderr",
     "output_type": "stream",
     "text": [
      "c:\\Users\\PC\\AppData\\Local\\Programs\\Python\\Python38\\lib\\site-packages\\statsmodels\\tsa\\x13.py:187: X13Warning: WARNING: At least one visually significant trading day peak has been\n",
      "          found in the estimated spectrum of the regARIMA residuals.\n",
      "  \n",
      " WARNING: At least one visually significant trading day peak has been\n",
      "          found in one or more of the estimated spectra.\n",
      "  warn(errors, X13Warning)\n"
     ]
    },
    {
     "name": "stdout",
     "output_type": "stream",
     "text": [
      "x12-arima 계절조정 작업 : L56 ------- 56    수출금액지수\n",
      "Name: Variable, dtype: object\n"
     ]
    },
    {
     "name": "stderr",
     "output_type": "stream",
     "text": [
      "c:\\Users\\PC\\AppData\\Local\\Programs\\Python\\Python38\\lib\\site-packages\\statsmodels\\tsa\\x13.py:187: X13Warning: WARNING: At least one visually significant trading day peak has been\n",
      "          found in the estimated spectrum of the regARIMA residuals.\n",
      "  \n",
      " WARNING: At least one visually significant trading day peak has been\n",
      "          found in one or more of the estimated spectra.\n",
      "  warn(errors, X13Warning)\n"
     ]
    },
    {
     "name": "stdout",
     "output_type": "stream",
     "text": [
      "x12-arima 계절조정 작업 : L57 ------- 57    수입금액지수\n",
      "Name: Variable, dtype: object\n"
     ]
    },
    {
     "name": "stderr",
     "output_type": "stream",
     "text": [
      "c:\\Users\\PC\\AppData\\Local\\Programs\\Python\\Python38\\lib\\site-packages\\statsmodels\\tsa\\x13.py:187: X13Warning: WARNING: At least one visually significant trading day peak has been\n",
      "          found in the estimated spectrum of the regARIMA residuals.\n",
      "  \n",
      " WARNING: At least one visually significant trading day peak has been\n",
      "          found in one or more of the estimated spectra.\n",
      "  warn(errors, X13Warning)\n"
     ]
    },
    {
     "name": "stdout",
     "output_type": "stream",
     "text": [
      "x12-arima 계절조정 작업 : L58 ------- 58    외환보유액\n",
      "Name: Variable, dtype: object\n",
      "x12-arima 계절조정 작업 : L64 ------- 64    수출물가지수\n",
      "Name: Variable, dtype: object\n"
     ]
    },
    {
     "name": "stderr",
     "output_type": "stream",
     "text": [
      "c:\\Users\\PC\\AppData\\Local\\Programs\\Python\\Python38\\lib\\site-packages\\statsmodels\\tsa\\x13.py:187: X13Warning: WARNING: At least one visually significant seasonal peak has been found\n",
      "          in the estimated spectrum of the regARIMA residuals.\n",
      "  warn(errors, X13Warning)\n"
     ]
    },
    {
     "name": "stdout",
     "output_type": "stream",
     "text": [
      "x12-arima 계절조정 작업 : L65 ------- 65    수입물가지수\n",
      "Name: Variable, dtype: object\n"
     ]
    },
    {
     "name": "stderr",
     "output_type": "stream",
     "text": [
      "c:\\Users\\PC\\AppData\\Local\\Programs\\Python\\Python38\\lib\\site-packages\\statsmodels\\tsa\\x13.py:187: X13Warning: WARNING: At least one visually significant seasonal peak has been found\n",
      "          in the estimated spectrum of the regARIMA residuals.\n",
      "  warn(errors, X13Warning)\n"
     ]
    },
    {
     "name": "stdout",
     "output_type": "stream",
     "text": [
      "x12-arima 계절조정 작업 : M66 ------- 66    본원통화(말잔)\n",
      "Name: Variable, dtype: object\n",
      "x12-arima 계절조정 작업 : M67 ------- 67    M1(말잔)\n",
      "Name: Variable, dtype: object\n"
     ]
    },
    {
     "name": "stderr",
     "output_type": "stream",
     "text": [
      "c:\\Users\\PC\\AppData\\Local\\Programs\\Python\\Python38\\lib\\site-packages\\statsmodels\\tsa\\x13.py:187: X13Warning: WARNING: At least one visually significant trading day peak has been\n",
      "          found in one or more of the estimated spectra.\n",
      "  warn(errors, X13Warning)\n"
     ]
    },
    {
     "name": "stdout",
     "output_type": "stream",
     "text": [
      "x12-arima 계절조정 작업 : M68 ------- 68    M2(말잔)\n",
      "Name: Variable, dtype: object\n"
     ]
    },
    {
     "name": "stderr",
     "output_type": "stream",
     "text": [
      "c:\\Users\\PC\\AppData\\Local\\Programs\\Python\\Python38\\lib\\site-packages\\statsmodels\\tsa\\x13.py:187: X13Warning: WARNING: At least one visually significant trading day peak has been\n",
      "          found in one or more of the estimated spectra.\n",
      "  warn(errors, X13Warning)\n"
     ]
    },
    {
     "name": "stdout",
     "output_type": "stream",
     "text": [
      "x12-arima 계절조정 작업 : M69 ------- 69    Lf(말잔)\n",
      "Name: Variable, dtype: object\n"
     ]
    },
    {
     "name": "stderr",
     "output_type": "stream",
     "text": [
      "c:\\Users\\PC\\AppData\\Local\\Programs\\Python\\Python38\\lib\\site-packages\\statsmodels\\tsa\\x13.py:187: X13Warning: WARNING: At least one visually significant seasonal peak has been found\n",
      "          in the estimated spectrum of the regARIMA residuals.\n",
      "  warn(errors, X13Warning)\n"
     ]
    },
    {
     "name": "stdout",
     "output_type": "stream",
     "text": [
      "x12-arima 계절조정 작업 : M70 ------- 70    L(광의유동성)(말잔)\n",
      "Name: Variable, dtype: object\n",
      "x12-arima 계절조정 작업 : N71 ------- 71    한국은행 기준금리\n",
      "Name: Variable, dtype: object\n"
     ]
    },
    {
     "name": "stderr",
     "output_type": "stream",
     "text": [
      "c:\\Users\\PC\\AppData\\Local\\Programs\\Python\\Python38\\lib\\site-packages\\statsmodels\\tsa\\x13.py:187: X13Warning: WARNING: At least one visually significant seasonal peak has been found\n",
      "          in the estimated spectrum of the regARIMA residuals.\n",
      "  \n",
      " WARNING: At least one visually significant seasonal peak has been\n",
      "          found in one or more of the estimated spectra.\n",
      "  warn(errors, X13Warning)\n"
     ]
    },
    {
     "name": "stdout",
     "output_type": "stream",
     "text": [
      "x12-arima 계절조정 작업 : N72 ------- 72    예금은행 총대출 금리\n",
      "Name: Variable, dtype: object\n"
     ]
    },
    {
     "name": "stderr",
     "output_type": "stream",
     "text": [
      "c:\\Users\\PC\\AppData\\Local\\Programs\\Python\\Python38\\lib\\site-packages\\statsmodels\\tsa\\x13.py:187: X13Warning: WARNING: Visually significant seasonal and trading day peaks have \n",
      "          been found in the estimated spectrum of the regARIMA residuals.\n",
      "  warn(errors, X13Warning)\n"
     ]
    },
    {
     "name": "stdout",
     "output_type": "stream",
     "text": [
      "x12-arima 계절조정 작업 : N73 ------- 73    기업대출 금리\n",
      "Name: Variable, dtype: object\n",
      "x12-arima 계절조정 작업 : N74 ------- 74    주택담보대출 금리\n",
      "Name: Variable, dtype: object\n"
     ]
    },
    {
     "name": "stderr",
     "output_type": "stream",
     "text": [
      "c:\\Users\\PC\\AppData\\Local\\Programs\\Python\\Python38\\lib\\site-packages\\statsmodels\\tsa\\x13.py:187: X13Warning: WARNING: At least one visually significant trading day peak has been\n",
      "          found in the estimated spectrum of the regARIMA residuals.\n",
      "  warn(errors, X13Warning)\n"
     ]
    },
    {
     "name": "stdout",
     "output_type": "stream",
     "text": [
      "x12-arima 계절조정 작업 : N75 ------- 75    전세자금대출 금리\n",
      "Name: Variable, dtype: object\n"
     ]
    },
    {
     "name": "stderr",
     "output_type": "stream",
     "text": [
      "c:\\Users\\PC\\AppData\\Local\\Programs\\Python\\Python38\\lib\\site-packages\\statsmodels\\tsa\\x13.py:187: X13Warning: WARNING: At least one visually significant trading day peak has been\n",
      "          found in one or more of the estimated spectra.\n",
      "  warn(errors, X13Warning)\n"
     ]
    },
    {
     "name": "stdout",
     "output_type": "stream",
     "text": [
      "x12-arima 계절조정 작업 : N76 ------- 76    무담보콜금리 전체 금리\n",
      "Name: Variable, dtype: object\n"
     ]
    },
    {
     "name": "stderr",
     "output_type": "stream",
     "text": [
      "c:\\Users\\PC\\AppData\\Local\\Programs\\Python\\Python38\\lib\\site-packages\\statsmodels\\tsa\\x13.py:187: X13Warning: WARNING: At least one visually significant seasonal peak has been found\n",
      "          in the estimated spectrum of the regARIMA residuals.\n",
      "  warn(errors, X13Warning)\n"
     ]
    },
    {
     "name": "stdout",
     "output_type": "stream",
     "text": [
      "x12-arima 계절조정 작업 : N77 ------- 77    KORIBOR(3개월) 금리\n",
      "Name: Variable, dtype: object\n",
      "x12-arima 계절조정 작업 : N78 ------- 78    CD(91일) 금리\n",
      "Name: Variable, dtype: object\n"
     ]
    },
    {
     "name": "stderr",
     "output_type": "stream",
     "text": [
      "c:\\Users\\PC\\AppData\\Local\\Programs\\Python\\Python38\\lib\\site-packages\\statsmodels\\tsa\\x13.py:187: X13Warning: WARNING: At least one visually significant seasonal peak has been found\n",
      "          in the estimated spectrum of the regARIMA residuals.\n",
      "  \n",
      " WARNING: At least one visually significant trading day peak has been\n",
      "          found in one or more of the estimated spectra.\n",
      "  warn(errors, X13Warning)\n"
     ]
    },
    {
     "name": "stdout",
     "output_type": "stream",
     "text": [
      "x12-arima 계절조정 작업 : N79 ------- 79    CP(91일) 금리\n",
      "Name: Variable, dtype: object\n"
     ]
    },
    {
     "name": "stderr",
     "output_type": "stream",
     "text": [
      "c:\\Users\\PC\\AppData\\Local\\Programs\\Python\\Python38\\lib\\site-packages\\statsmodels\\tsa\\x13.py:187: X13Warning: WARNING: At least one visually significant seasonal peak has been found\n",
      "          in the estimated spectrum of the regARIMA residuals.\n",
      "  warn(errors, X13Warning)\n"
     ]
    },
    {
     "name": "stdout",
     "output_type": "stream",
     "text": [
      "x12-arima 계절조정 작업 : N80 ------- 80    국고채(1년) 금리\n",
      "Name: Variable, dtype: object\n",
      "x12-arima 계절조정 작업 : N81 ------- 81    국고채(10년) 금리\n",
      "Name: Variable, dtype: object\n",
      "x12-arima 계절조정 작업 : N82 ------- 82    회사채(3년, AA-) 금리\n",
      "Name: Variable, dtype: object\n"
     ]
    },
    {
     "name": "stderr",
     "output_type": "stream",
     "text": [
      "c:\\Users\\PC\\AppData\\Local\\Programs\\Python\\Python38\\lib\\site-packages\\statsmodels\\tsa\\x13.py:187: X13Warning: WARNING: At least one visually significant seasonal peak has been found\n",
      "          in the estimated spectrum of the regARIMA residuals.\n",
      "  warn(errors, X13Warning)\n"
     ]
    },
    {
     "name": "stdout",
     "output_type": "stream",
     "text": [
      "x12-arima 계절조정 작업 : N83 ------- 83    예금은행 총수신(말잔)\n",
      "Name: Variable, dtype: object\n"
     ]
    },
    {
     "name": "stderr",
     "output_type": "stream",
     "text": [
      "c:\\Users\\PC\\AppData\\Local\\Programs\\Python\\Python38\\lib\\site-packages\\statsmodels\\tsa\\x13.py:187: X13Warning: WARNING: At least one visually significant seasonal peak has been found\n",
      "          in the estimated spectrum of the regARIMA residuals.\n",
      "  warn(errors, X13Warning)\n"
     ]
    },
    {
     "name": "stdout",
     "output_type": "stream",
     "text": [
      "x12-arima 계절조정 작업 : N84 ------- 84    비은행기관 수신(말잔)\n",
      "Name: Variable, dtype: object\n",
      "x12-arima 계절조정 작업 : N85 ------- 85    예금은행 대출금(말잔)\n",
      "Name: Variable, dtype: object\n"
     ]
    },
    {
     "name": "stderr",
     "output_type": "stream",
     "text": [
      "c:\\Users\\PC\\AppData\\Local\\Programs\\Python\\Python38\\lib\\site-packages\\statsmodels\\tsa\\x13.py:187: X13Warning: WARNING: At least one visually significant trading day peak has been\n",
      "          found in one or more of the estimated spectra.\n",
      "  warn(errors, X13Warning)\n"
     ]
    },
    {
     "name": "stdout",
     "output_type": "stream",
     "text": [
      "x12-arima 계절조정 작업 : N86 ------- 86    비은행금융기관 여신(말잔)\n",
      "Name: Variable, dtype: object\n"
     ]
    },
    {
     "name": "stderr",
     "output_type": "stream",
     "text": [
      "c:\\Users\\PC\\AppData\\Local\\Programs\\Python\\Python38\\lib\\site-packages\\statsmodels\\tsa\\x13.py:187: X13Warning: WARNING: At least one visually significant seasonal peak has been found\n",
      "          in the estimated spectrum of the regARIMA residuals.\n",
      "  warn(errors, X13Warning)\n"
     ]
    },
    {
     "name": "stdout",
     "output_type": "stream",
     "text": [
      "x12-arima 계절조정 작업 : N87 ------- 87     가계대출\n",
      "Name: Variable, dtype: object\n",
      "x12-arima 계절조정 작업 : N88 ------- 88      (가계)주택담보대출\n",
      "Name: Variable, dtype: object\n"
     ]
    },
    {
     "name": "stderr",
     "output_type": "stream",
     "text": [
      "c:\\Users\\PC\\AppData\\Local\\Programs\\Python\\Python38\\lib\\site-packages\\statsmodels\\tsa\\x13.py:187: X13Warning: WARNING: At least one visually significant trading day peak has been\n",
      "          found in one or more of the estimated spectra.\n",
      "  warn(errors, X13Warning)\n"
     ]
    },
    {
     "name": "stdout",
     "output_type": "stream",
     "text": [
      "x12-arima 계절조정 작업 : N89 ------- 89      (가계)기타대출\n",
      "Name: Variable, dtype: object\n",
      "x12-arima 계절조정 작업 : N90 ------- 90    예금은행예금회전율\n",
      "Name: Variable, dtype: object\n"
     ]
    },
    {
     "name": "stderr",
     "output_type": "stream",
     "text": [
      "c:\\Users\\PC\\AppData\\Local\\Programs\\Python\\Python38\\lib\\site-packages\\statsmodels\\tsa\\x13.py:187: X13Warning: WARNING: At least one visually significant trading day peak has been\n",
      "          found in the estimated spectrum of the regARIMA residuals.\n",
      "  \n",
      " WARNING: At least one visually significant trading day peak has been\n",
      "          found in one or more of the estimated spectra.\n",
      "  warn(errors, X13Warning)\n"
     ]
    },
    {
     "name": "stdout",
     "output_type": "stream",
     "text": [
      "x12-arima 계절조정 작업 : N91 ------- 91    기업대출 연체율\n",
      "Name: Variable, dtype: object\n",
      "x12-arima 계절조정 작업 : N92 ------- 92    가계대출_연체율\n",
      "Name: Variable, dtype: object\n"
     ]
    },
    {
     "name": "stderr",
     "output_type": "stream",
     "text": [
      "c:\\Users\\PC\\AppData\\Local\\Programs\\Python\\Python38\\lib\\site-packages\\statsmodels\\tsa\\x13.py:187: X13Warning: WARNING: At least one visually significant seasonal peak has been found\n",
      "          in the estimated spectrum of the regARIMA residuals.\n",
      "  warn(errors, X13Warning)\n"
     ]
    },
    {
     "name": "stdout",
     "output_type": "stream",
     "text": [
      "x12-arima 계절조정 작업 : N93 ------- 93    신용카드대출_연체율\n",
      "Name: Variable, dtype: object\n",
      "x12-arima 계절조정 작업 : O94 ------- 94      KOSPI_시가총액\n",
      "Name: Variable, dtype: object\n",
      "x12-arima 계절조정 작업 : O95 ------- 95      KOSPI_거래량\n",
      "Name: Variable, dtype: object\n"
     ]
    },
    {
     "name": "stderr",
     "output_type": "stream",
     "text": [
      "c:\\Users\\PC\\AppData\\Local\\Programs\\Python\\Python38\\lib\\site-packages\\statsmodels\\tsa\\x13.py:187: X13Warning: WARNING: Visually significant seasonal and trading day peaks have \n",
      "          been found in the estimated spectrum of the regARIMA residuals.\n",
      "  warn(errors, X13Warning)\n"
     ]
    },
    {
     "name": "stdout",
     "output_type": "stream",
     "text": [
      "x12-arima 계절조정 작업 : O96 ------- 96      KOSPI_거래대금\n",
      "Name: Variable, dtype: object\n"
     ]
    },
    {
     "name": "stderr",
     "output_type": "stream",
     "text": [
      "c:\\Users\\PC\\AppData\\Local\\Programs\\Python\\Python38\\lib\\site-packages\\statsmodels\\tsa\\x13.py:187: X13Warning: WARNING: Visually significant seasonal and trading day peaks have \n",
      "          been found in the estimated spectrum of the regARIMA residuals.\n",
      "  \n",
      " WARNING: At least one visually significant trading day peak has been\n",
      "          found in one or more of the estimated spectra.\n",
      "  warn(errors, X13Warning)\n"
     ]
    },
    {
     "name": "stdout",
     "output_type": "stream",
     "text": [
      "x12-arima 계절조정 작업 : O97 ------- 97      KOSDAQ_시가총액\n",
      "Name: Variable, dtype: object\n",
      "x12-arima 계절조정 작업 : O98 ------- 98      KOSDAQ_거래량\n",
      "Name: Variable, dtype: object\n"
     ]
    },
    {
     "name": "stderr",
     "output_type": "stream",
     "text": [
      "c:\\Users\\PC\\AppData\\Local\\Programs\\Python\\Python38\\lib\\site-packages\\statsmodels\\tsa\\x13.py:187: X13Warning: WARNING: At least one visually significant trading day peak has been\n",
      "          found in the estimated spectrum of the regARIMA residuals.\n",
      "  \n",
      " WARNING: At least one visually significant trading day peak has been\n",
      "          found in one or more of the estimated spectra.\n",
      "  warn(errors, X13Warning)\n"
     ]
    },
    {
     "name": "stdout",
     "output_type": "stream",
     "text": [
      "x12-arima 계절조정 작업 : O99 ------- 99      KOSDAQ_거래대금\n",
      "Name: Variable, dtype: object\n",
      "x12-arima 계절조정 작업 : O100 ------- 100    채권_상장잔액\n",
      "Name: Variable, dtype: object\n",
      "x12-arima 계절조정 작업 : O101 ------- 101    채권_거래량\n",
      "Name: Variable, dtype: object\n",
      "x12-arima 계절조정 작업 : O102 ------- 102    채권_거래대금\n",
      "Name: Variable, dtype: object\n"
     ]
    }
   ],
   "source": [
    "for i, var in enumerate(df_M.columns):\n",
    "  # print(i)\n",
    "  if atr := var_info['X13-arima'][var_info['ID']==var].values == 'o':\n",
    "    if var in ['L64','N71','N72','N76','N91','N92']: # 수출물가지수, 예금은행 총대출 금리\n",
    "      print(f\"x12-arima 계절조정 작업 : {var} ------- {var_info['Variable'][var_info['ID']==var]}\")\n",
    "      data = df_M[var].dropna()\n",
    "      results = sm.tsa.x13_arima_analysis(data, outlier=False)\n",
    "    else:\n",
    "      print(f\"x12-arima 계절조정 작업 : {var} ------- {var_info['Variable'][var_info['ID']==var]}\")\n",
    "      data = df_M[var].dropna()\n",
    "      results = sm.tsa.x13_arima_analysis(data)\n",
    "    df_M[var]=results.seasadj\n",
    "  else:\n",
    "    continue"
   ]
  },
  {
   "cell_type": "code",
   "execution_count": 18,
   "metadata": {},
   "outputs": [
    {
     "data": {
      "text/plain": [
       "<Figure size 720x864 with 0 Axes>"
      ]
     },
     "execution_count": 18,
     "metadata": {},
     "output_type": "execute_result"
    },
    {
     "data": {
      "text/plain": [
       "<AxesSubplot:xlabel='date'>"
      ]
     },
     "execution_count": 18,
     "metadata": {},
     "output_type": "execute_result"
    },
    {
     "data": {
      "image/png": "[encoded data removed]",
      "text/plain": [
       "<Figure size 720x864 with 1 Axes>"
      ]
     },
     "metadata": {
      "needs_background": "light"
     },
     "output_type": "display_data"
    }
   ],
   "source": [
    "plt.figure(figsize=(10,12))\n",
    "sns.heatmap(df_M.isna().transpose(),\n",
    "            cmap=\"YlGnBu\",\n",
    "            cbar=False,\n",
    "            # cbar_kws={'label': 'Missing Data'}\n",
    "            )\n",
    "plt.show()"
   ]
  },
  {
   "cell_type": "code",
   "execution_count": 30,
   "metadata": {},
   "outputs": [
    {
     "ename": "BadZipFile",
     "evalue": "File is not a zip file",
     "output_type": "error",
     "traceback": [
      "\u001b[1;31m---------------------------------------------------------------------------\u001b[0m",
      "\u001b[1;31mBadZipFile\u001b[0m                                Traceback (most recent call last)",
      "\u001b[1;32m<ipython-input-30-af2bc951f648>\u001b[0m in \u001b[0;36m<module>\u001b[1;34m\u001b[0m\n\u001b[0;32m     13\u001b[0m         \u001b[0mdf_Q\u001b[0m\u001b[1;33m.\u001b[0m\u001b[0mto_excel\u001b[0m\u001b[1;33m(\u001b[0m\u001b[0mwriter\u001b[0m\u001b[1;33m,\u001b[0m \u001b[0mindex\u001b[0m\u001b[1;33m=\u001b[0m\u001b[1;32mTrue\u001b[0m\u001b[1;33m,\u001b[0m \u001b[0msheet_name\u001b[0m\u001b[1;33m=\u001b[0m\u001b[0msheet_Q\u001b[0m\u001b[1;33m)\u001b[0m\u001b[1;33m\u001b[0m\u001b[1;33m\u001b[0m\u001b[0m\n\u001b[0;32m     14\u001b[0m \u001b[1;32melse\u001b[0m\u001b[1;33m:\u001b[0m\u001b[1;33m\u001b[0m\u001b[1;33m\u001b[0m\u001b[0m\n\u001b[1;32m---> 15\u001b[1;33m     \u001b[1;32mwith\u001b[0m \u001b[0mpd\u001b[0m\u001b[1;33m.\u001b[0m\u001b[0mExcelWriter\u001b[0m\u001b[1;33m(\u001b[0m\u001b[0msave_path\u001b[0m\u001b[1;33m,\u001b[0m \u001b[0mmode\u001b[0m\u001b[1;33m=\u001b[0m\u001b[1;34m'a'\u001b[0m\u001b[1;33m,\u001b[0m \u001b[0mengine\u001b[0m\u001b[1;33m=\u001b[0m\u001b[1;34m'openpyxl'\u001b[0m\u001b[1;33m)\u001b[0m \u001b[1;32mas\u001b[0m \u001b[0mwriter\u001b[0m\u001b[1;33m:\u001b[0m\u001b[1;33m\u001b[0m\u001b[1;33m\u001b[0m\u001b[0m\n\u001b[0m\u001b[0;32m     16\u001b[0m         \u001b[0mdf_Q\u001b[0m\u001b[1;33m.\u001b[0m\u001b[0mto_excel\u001b[0m\u001b[1;33m(\u001b[0m\u001b[0mwriter\u001b[0m\u001b[1;33m,\u001b[0m \u001b[0mindex\u001b[0m\u001b[1;33m=\u001b[0m\u001b[1;32mTrue\u001b[0m\u001b[1;33m,\u001b[0m \u001b[0msheet_name\u001b[0m\u001b[1;33m=\u001b[0m\u001b[0msheet_Q\u001b[0m\u001b[1;33m)\u001b[0m\u001b[1;33m\u001b[0m\u001b[1;33m\u001b[0m\u001b[0m\n\u001b[0;32m     17\u001b[0m \u001b[1;33m\u001b[0m\u001b[0m\n",
      "\u001b[1;32mc:\\Users\\PC\\AppData\\Local\\Programs\\Python\\Python38\\lib\\site-packages\\pandas\\io\\excel\\_openpyxl.py\u001b[0m in \u001b[0;36m__init__\u001b[1;34m(self, path, engine, date_format, datetime_format, mode, storage_options, if_sheet_exists, engine_kwargs, **kwargs)\u001b[0m\n\u001b[0;32m     71\u001b[0m             \u001b[1;32mfrom\u001b[0m \u001b[0mopenpyxl\u001b[0m \u001b[1;32mimport\u001b[0m \u001b[0mload_workbook\u001b[0m\u001b[1;33m\u001b[0m\u001b[1;33m\u001b[0m\u001b[0m\n\u001b[0;32m     72\u001b[0m \u001b[1;33m\u001b[0m\u001b[0m\n\u001b[1;32m---> 73\u001b[1;33m             \u001b[0mself\u001b[0m\u001b[1;33m.\u001b[0m\u001b[0m_book\u001b[0m \u001b[1;33m=\u001b[0m \u001b[0mload_workbook\u001b[0m\u001b[1;33m(\u001b[0m\u001b[0mself\u001b[0m\u001b[1;33m.\u001b[0m\u001b[0m_handles\u001b[0m\u001b[1;33m.\u001b[0m\u001b[0mhandle\u001b[0m\u001b[1;33m,\u001b[0m \u001b[1;33m**\u001b[0m\u001b[0mengine_kwargs\u001b[0m\u001b[1;33m)\u001b[0m\u001b[1;33m\u001b[0m\u001b[1;33m\u001b[0m\u001b[0m\n\u001b[0m\u001b[0;32m     74\u001b[0m             \u001b[0mself\u001b[0m\u001b[1;33m.\u001b[0m\u001b[0m_handles\u001b[0m\u001b[1;33m.\u001b[0m\u001b[0mhandle\u001b[0m\u001b[1;33m.\u001b[0m\u001b[0mseek\u001b[0m\u001b[1;33m(\u001b[0m\u001b[1;36m0\u001b[0m\u001b[1;33m)\u001b[0m\u001b[1;33m\u001b[0m\u001b[1;33m\u001b[0m\u001b[0m\n\u001b[0;32m     75\u001b[0m         \u001b[1;32melse\u001b[0m\u001b[1;33m:\u001b[0m\u001b[1;33m\u001b[0m\u001b[1;33m\u001b[0m\u001b[0m\n",
      "\u001b[1;32mc:\\Users\\PC\\AppData\\Local\\Programs\\Python\\Python38\\lib\\site-packages\\openpyxl\\reader\\excel.py\u001b[0m in \u001b[0;36mload_workbook\u001b[1;34m(filename, read_only, keep_vba, data_only, keep_links, rich_text)\u001b[0m\n\u001b[0;32m    342\u001b[0m \u001b[1;33m\u001b[0m\u001b[0m\n\u001b[0;32m    343\u001b[0m     \"\"\"\n\u001b[1;32m--> 344\u001b[1;33m     reader = ExcelReader(filename, read_only, keep_vba,\n\u001b[0m\u001b[0;32m    345\u001b[0m                          data_only, keep_links, rich_text)\n\u001b[0;32m    346\u001b[0m     \u001b[0mreader\u001b[0m\u001b[1;33m.\u001b[0m\u001b[0mread\u001b[0m\u001b[1;33m(\u001b[0m\u001b[1;33m)\u001b[0m\u001b[1;33m\u001b[0m\u001b[1;33m\u001b[0m\u001b[0m\n",
      "\u001b[1;32mc:\\Users\\PC\\AppData\\Local\\Programs\\Python\\Python38\\lib\\site-packages\\openpyxl\\reader\\excel.py\u001b[0m in \u001b[0;36m__init__\u001b[1;34m(self, fn, read_only, keep_vba, data_only, keep_links, rich_text)\u001b[0m\n\u001b[0;32m    121\u001b[0m     def __init__(self, fn, read_only=False, keep_vba=KEEP_VBA,\n\u001b[0;32m    122\u001b[0m                  data_only=False, keep_links=True, rich_text=False):\n\u001b[1;32m--> 123\u001b[1;33m         \u001b[0mself\u001b[0m\u001b[1;33m.\u001b[0m\u001b[0marchive\u001b[0m \u001b[1;33m=\u001b[0m \u001b[0m_validate_archive\u001b[0m\u001b[1;33m(\u001b[0m\u001b[0mfn\u001b[0m\u001b[1;33m)\u001b[0m\u001b[1;33m\u001b[0m\u001b[1;33m\u001b[0m\u001b[0m\n\u001b[0m\u001b[0;32m    124\u001b[0m         \u001b[0mself\u001b[0m\u001b[1;33m.\u001b[0m\u001b[0mvalid_files\u001b[0m \u001b[1;33m=\u001b[0m \u001b[0mself\u001b[0m\u001b[1;33m.\u001b[0m\u001b[0marchive\u001b[0m\u001b[1;33m.\u001b[0m\u001b[0mnamelist\u001b[0m\u001b[1;33m(\u001b[0m\u001b[1;33m)\u001b[0m\u001b[1;33m\u001b[0m\u001b[1;33m\u001b[0m\u001b[0m\n\u001b[0;32m    125\u001b[0m         \u001b[0mself\u001b[0m\u001b[1;33m.\u001b[0m\u001b[0mread_only\u001b[0m \u001b[1;33m=\u001b[0m \u001b[0mread_only\u001b[0m\u001b[1;33m\u001b[0m\u001b[1;33m\u001b[0m\u001b[0m\n",
      "\u001b[1;32mc:\\Users\\PC\\AppData\\Local\\Programs\\Python\\Python38\\lib\\site-packages\\openpyxl\\reader\\excel.py\u001b[0m in \u001b[0;36m_validate_archive\u001b[1;34m(filename)\u001b[0m\n\u001b[0;32m     93\u001b[0m             \u001b[1;32mraise\u001b[0m \u001b[0mInvalidFileException\u001b[0m\u001b[1;33m(\u001b[0m\u001b[0mmsg\u001b[0m\u001b[1;33m)\u001b[0m\u001b[1;33m\u001b[0m\u001b[1;33m\u001b[0m\u001b[0m\n\u001b[0;32m     94\u001b[0m \u001b[1;33m\u001b[0m\u001b[0m\n\u001b[1;32m---> 95\u001b[1;33m     \u001b[0marchive\u001b[0m \u001b[1;33m=\u001b[0m \u001b[0mZipFile\u001b[0m\u001b[1;33m(\u001b[0m\u001b[0mfilename\u001b[0m\u001b[1;33m,\u001b[0m \u001b[1;34m'r'\u001b[0m\u001b[1;33m)\u001b[0m\u001b[1;33m\u001b[0m\u001b[1;33m\u001b[0m\u001b[0m\n\u001b[0m\u001b[0;32m     96\u001b[0m     \u001b[1;32mreturn\u001b[0m \u001b[0marchive\u001b[0m\u001b[1;33m\u001b[0m\u001b[1;33m\u001b[0m\u001b[0m\n\u001b[0;32m     97\u001b[0m \u001b[1;33m\u001b[0m\u001b[0m\n",
      "\u001b[1;32mc:\\Users\\PC\\AppData\\Local\\Programs\\Python\\Python38\\lib\\zipfile.py\u001b[0m in \u001b[0;36m__init__\u001b[1;34m(self, file, mode, compression, allowZip64, compresslevel, strict_timestamps)\u001b[0m\n\u001b[0;32m   1267\u001b[0m         \u001b[1;32mtry\u001b[0m\u001b[1;33m:\u001b[0m\u001b[1;33m\u001b[0m\u001b[1;33m\u001b[0m\u001b[0m\n\u001b[0;32m   1268\u001b[0m             \u001b[1;32mif\u001b[0m \u001b[0mmode\u001b[0m \u001b[1;33m==\u001b[0m \u001b[1;34m'r'\u001b[0m\u001b[1;33m:\u001b[0m\u001b[1;33m\u001b[0m\u001b[1;33m\u001b[0m\u001b[0m\n\u001b[1;32m-> 1269\u001b[1;33m                 \u001b[0mself\u001b[0m\u001b[1;33m.\u001b[0m\u001b[0m_RealGetContents\u001b[0m\u001b[1;33m(\u001b[0m\u001b[1;33m)\u001b[0m\u001b[1;33m\u001b[0m\u001b[1;33m\u001b[0m\u001b[0m\n\u001b[0m\u001b[0;32m   1270\u001b[0m             \u001b[1;32melif\u001b[0m \u001b[0mmode\u001b[0m \u001b[1;32min\u001b[0m \u001b[1;33m(\u001b[0m\u001b[1;34m'w'\u001b[0m\u001b[1;33m,\u001b[0m \u001b[1;34m'x'\u001b[0m\u001b[1;33m)\u001b[0m\u001b[1;33m:\u001b[0m\u001b[1;33m\u001b[0m\u001b[1;33m\u001b[0m\u001b[0m\n\u001b[0;32m   1271\u001b[0m                 \u001b[1;31m# set the modified flag so central directory gets written\u001b[0m\u001b[1;33m\u001b[0m\u001b[1;33m\u001b[0m\u001b[1;33m\u001b[0m\u001b[0m\n",
      "\u001b[1;32mc:\\Users\\PC\\AppData\\Local\\Programs\\Python\\Python38\\lib\\zipfile.py\u001b[0m in \u001b[0;36m_RealGetContents\u001b[1;34m(self)\u001b[0m\n\u001b[0;32m   1334\u001b[0m             \u001b[1;32mraise\u001b[0m \u001b[0mBadZipFile\u001b[0m\u001b[1;33m(\u001b[0m\u001b[1;34m\"File is not a zip file\"\u001b[0m\u001b[1;33m)\u001b[0m\u001b[1;33m\u001b[0m\u001b[1;33m\u001b[0m\u001b[0m\n\u001b[0;32m   1335\u001b[0m         \u001b[1;32mif\u001b[0m \u001b[1;32mnot\u001b[0m \u001b[0mendrec\u001b[0m\u001b[1;33m:\u001b[0m\u001b[1;33m\u001b[0m\u001b[1;33m\u001b[0m\u001b[0m\n\u001b[1;32m-> 1336\u001b[1;33m             \u001b[1;32mraise\u001b[0m \u001b[0mBadZipFile\u001b[0m\u001b[1;33m(\u001b[0m\u001b[1;34m\"File is not a zip file\"\u001b[0m\u001b[1;33m)\u001b[0m\u001b[1;33m\u001b[0m\u001b[1;33m\u001b[0m\u001b[0m\n\u001b[0m\u001b[0;32m   1337\u001b[0m         \u001b[1;32mif\u001b[0m \u001b[0mself\u001b[0m\u001b[1;33m.\u001b[0m\u001b[0mdebug\u001b[0m \u001b[1;33m>\u001b[0m \u001b[1;36m1\u001b[0m\u001b[1;33m:\u001b[0m\u001b[1;33m\u001b[0m\u001b[1;33m\u001b[0m\u001b[0m\n\u001b[0;32m   1338\u001b[0m             \u001b[0mprint\u001b[0m\u001b[1;33m(\u001b[0m\u001b[0mendrec\u001b[0m\u001b[1;33m)\u001b[0m\u001b[1;33m\u001b[0m\u001b[1;33m\u001b[0m\u001b[0m\n",
      "\u001b[1;31mBadZipFile\u001b[0m: File is not a zip file"
     ]
    }
   ],
   "source": [
    "save_dir= 'D:/2023/Data_WareHouse/ECOS(한국은행경제통계)/Data_02'\n",
    "save_file = 'dataset_03_S.xlsx'\n",
    "save_path = os.path.join(save_dir,save_file)\n",
    "sheet_Q = 'df_Q'\n",
    "sheet_M = 'df_M'\n",
    "\n",
    "# writer=pd.ExcelWriter(save_path, engine='openpyxl')\n",
    "# df_Q.to_excel(writer, index=True, sheet_name=sheet_Q)\n",
    "# df_M.to_excel(writer, index=True, sheet_name=sheet_M)\n",
    "\n",
    "if not os.path.exists(save_path):\n",
    "    with pd.ExcelWriter(save_path, mode='w', engine='openpyxl') as writer:\n",
    "        df_Q.to_excel(writer, index=True, sheet_name=sheet_Q)\n",
    "else:\n",
    "    with pd.ExcelWriter(save_path, mode='a', engine='openpyxl') as writer:\n",
    "        df_Q.to_excel(writer, index=True, sheet_name=sheet_Q)\n",
    "        \n",
    "if not os.path.exists(save_path):\n",
    "    with pd.ExcelWriter(save_path, mode='w', engine='openpyxl') as writer:\n",
    "        df_M.to_excel(writer, index=True, sheet_name=sheet_M)\n",
    "else:\n",
    "    with pd.ExcelWriter(save_path, mode='a', engine='openpyxl') as writer:\n",
    "        df_M.to_excel(writer, index=True, sheet_name=sheet_M)"
   ]
  },
  {
   "cell_type": "code",
   "execution_count": null,
   "metadata": {},
   "outputs": [],
   "source": []
  }
 ],
 "metadata": {
  "kernelspec": {
   "display_name": "Python 3",
   "language": "python",
   "name": "python3"
  },
  "language_info": {
   "codemirror_mode": {
    "name": "ipython",
    "version": 3
   },
   "file_extension": ".py",
   "mimetype": "text/x-python",
   "name": "python",
   "nbconvert_exporter": "python",
   "pygments_lexer": "ipython3",
   "version": "3.8.5"
  },
  "orig_nbformat": 4
 },
 "nbformat": 4,
 "nbformat_minor": 2
}
